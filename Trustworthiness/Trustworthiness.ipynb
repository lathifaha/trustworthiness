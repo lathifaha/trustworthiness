{
 "cells": [
  {
   "cell_type": "code",
   "execution_count": 2,
   "metadata": {},
   "outputs": [],
   "source": [
    "#library\n",
    "import pandas as pd\n",
    "import numpy as np\n",
    "import seaborn as sns\n",
    "import matplotlib.pyplot as plt\n",
    "import scipy.stats as stats\n",
    "\n",
    "\n",
    "%matplotlib inline\n",
    "plt.rcParams['figure.figsize'] = 10, 8\n",
    "plt.style.use(\"seaborn\")"
   ]
  },
  {
   "cell_type": "code",
   "execution_count": 3,
   "metadata": {},
   "outputs": [],
   "source": [
    "#for machine learning\n",
    "\n",
    "import statsmodels.formula.api as sm\n",
    "from sklearn.model_selection import train_test_split\n",
    "from sklearn.linear_model import LogisticRegression\n",
    "from sklearn import metrics\n",
    "\n",
    "from sklearn import tree\n",
    "from sklearn.model_selection import GridSearchCV\n",
    "from sklearn.pipeline import make_pipeline\n",
    "from sklearn.model_selection import cross_validate\n",
    "\n",
    "from sklearn.naive_bayes import GaussianNB\n"
   ]
  },
  {
   "cell_type": "code",
   "execution_count": 4,
   "metadata": {},
   "outputs": [],
   "source": [
    "data = pd.read_csv(\"Survey Pengguna Handphone2.csv\")"
   ]
  },
  {
   "cell_type": "code",
   "execution_count": 5,
   "metadata": {},
   "outputs": [
    {
     "data": {
      "text/html": [
       "<div>\n",
       "<style scoped>\n",
       "    .dataframe tbody tr th:only-of-type {\n",
       "        vertical-align: middle;\n",
       "    }\n",
       "\n",
       "    .dataframe tbody tr th {\n",
       "        vertical-align: top;\n",
       "    }\n",
       "\n",
       "    .dataframe thead th {\n",
       "        text-align: right;\n",
       "    }\n",
       "</style>\n",
       "<table border=\"1\" class=\"dataframe\">\n",
       "  <thead>\n",
       "    <tr style=\"text-align: right;\">\n",
       "      <th></th>\n",
       "      <th>pemasukan</th>\n",
       "      <th>pekerjaan</th>\n",
       "      <th>uang kuota</th>\n",
       "      <th>merk</th>\n",
       "      <th>kuota Game</th>\n",
       "      <th>kuota Email</th>\n",
       "      <th>kuota lain</th>\n",
       "      <th>uang lebih baik</th>\n",
       "      <th>panik tagihan</th>\n",
       "      <th>keuangan resah</th>\n",
       "      <th>uang tersisa habis</th>\n",
       "      <th>level</th>\n",
       "    </tr>\n",
       "  </thead>\n",
       "  <tbody>\n",
       "    <tr>\n",
       "      <th>0</th>\n",
       "      <td>Rp 5.000.001 - Rp 10.000.000</td>\n",
       "      <td>PNS / BUMN / Pegawai Pemerintah</td>\n",
       "      <td>Rp 200.001 - Rp 500.000</td>\n",
       "      <td>Samsung</td>\n",
       "      <td>5</td>\n",
       "      <td>3</td>\n",
       "      <td>5</td>\n",
       "      <td>3</td>\n",
       "      <td>3</td>\n",
       "      <td>3</td>\n",
       "      <td>1</td>\n",
       "      <td>very low risk</td>\n",
       "    </tr>\n",
       "    <tr>\n",
       "      <th>1</th>\n",
       "      <td>Rp 3.000.001 - Rp 5.000.000</td>\n",
       "      <td>Karyawan Swasta</td>\n",
       "      <td>Rp 50.001 - Rp 100.000</td>\n",
       "      <td>Oppo</td>\n",
       "      <td>2</td>\n",
       "      <td>1</td>\n",
       "      <td>4</td>\n",
       "      <td>4</td>\n",
       "      <td>4</td>\n",
       "      <td>2</td>\n",
       "      <td>4</td>\n",
       "      <td>low risk</td>\n",
       "    </tr>\n",
       "    <tr>\n",
       "      <th>2</th>\n",
       "      <td>Rp 3.000.001 - Rp 5.000.000</td>\n",
       "      <td>PNS / BUMN / Pegawai Pemerintah</td>\n",
       "      <td>Rp 50.001 - Rp 100.000</td>\n",
       "      <td>Samsung</td>\n",
       "      <td>1</td>\n",
       "      <td>1</td>\n",
       "      <td>5</td>\n",
       "      <td>2</td>\n",
       "      <td>1</td>\n",
       "      <td>1</td>\n",
       "      <td>5</td>\n",
       "      <td>low risk</td>\n",
       "    </tr>\n",
       "    <tr>\n",
       "      <th>3</th>\n",
       "      <td>&gt; Rp 10.000.001</td>\n",
       "      <td>Karyawan Swasta</td>\n",
       "      <td>Rp 50.001 - Rp 100.000</td>\n",
       "      <td>Oppo</td>\n",
       "      <td>2</td>\n",
       "      <td>1</td>\n",
       "      <td>4</td>\n",
       "      <td>3</td>\n",
       "      <td>3</td>\n",
       "      <td>2</td>\n",
       "      <td>1</td>\n",
       "      <td>very low risk</td>\n",
       "    </tr>\n",
       "    <tr>\n",
       "      <th>4</th>\n",
       "      <td>Rp 5.000.001 - Rp 10.000.000</td>\n",
       "      <td>PNS / BUMN / Pegawai Pemerintah</td>\n",
       "      <td>Rp 200.001 - Rp 500.000</td>\n",
       "      <td>Samsung</td>\n",
       "      <td>1</td>\n",
       "      <td>5</td>\n",
       "      <td>5</td>\n",
       "      <td>5</td>\n",
       "      <td>1</td>\n",
       "      <td>1</td>\n",
       "      <td>1</td>\n",
       "      <td>very low risk</td>\n",
       "    </tr>\n",
       "  </tbody>\n",
       "</table>\n",
       "</div>"
      ],
      "text/plain": [
       "                      pemasukan                        pekerjaan  \\\n",
       "0  Rp 5.000.001 - Rp 10.000.000  PNS / BUMN / Pegawai Pemerintah   \n",
       "1   Rp 3.000.001 - Rp 5.000.000                  Karyawan Swasta   \n",
       "2   Rp 3.000.001 - Rp 5.000.000  PNS / BUMN / Pegawai Pemerintah   \n",
       "3               > Rp 10.000.001                  Karyawan Swasta   \n",
       "4  Rp 5.000.001 - Rp 10.000.000  PNS / BUMN / Pegawai Pemerintah   \n",
       "\n",
       "                uang kuota     merk  kuota Game  kuota Email  kuota lain  \\\n",
       "0  Rp 200.001 - Rp 500.000  Samsung           5            3           5   \n",
       "1   Rp 50.001 - Rp 100.000     Oppo           2            1           4   \n",
       "2   Rp 50.001 - Rp 100.000  Samsung           1            1           5   \n",
       "3   Rp 50.001 - Rp 100.000     Oppo           2            1           4   \n",
       "4  Rp 200.001 - Rp 500.000  Samsung           1            5           5   \n",
       "\n",
       "   uang lebih baik  panik tagihan  keuangan resah  uang tersisa habis  \\\n",
       "0                3              3               3                   1   \n",
       "1                4              4               2                   4   \n",
       "2                2              1               1                   5   \n",
       "3                3              3               2                   1   \n",
       "4                5              1               1                   1   \n",
       "\n",
       "           level  \n",
       "0  very low risk  \n",
       "1       low risk  \n",
       "2       low risk  \n",
       "3  very low risk  \n",
       "4  very low risk  "
      ]
     },
     "execution_count": 5,
     "metadata": {},
     "output_type": "execute_result"
    }
   ],
   "source": [
    "data.head()"
   ]
  },
  {
   "cell_type": "code",
   "execution_count": 6,
   "metadata": {},
   "outputs": [
    {
     "data": {
      "text/plain": [
       "Index(['pemasukan', 'pekerjaan', 'uang kuota', 'merk', 'kuota Game',\n",
       "       'kuota Email', 'kuota lain', 'uang lebih baik', 'panik tagihan',\n",
       "       'keuangan resah', 'uang tersisa habis', 'level'],\n",
       "      dtype='object')"
      ]
     },
     "execution_count": 6,
     "metadata": {},
     "output_type": "execute_result"
    }
   ],
   "source": [
    "data.columns"
   ]
  },
  {
   "cell_type": "code",
   "execution_count": 7,
   "metadata": {},
   "outputs": [
    {
     "data": {
      "text/plain": [
       "(714, 12)"
      ]
     },
     "execution_count": 7,
     "metadata": {},
     "output_type": "execute_result"
    }
   ],
   "source": [
    "data.shape"
   ]
  },
  {
   "cell_type": "code",
   "execution_count": 8,
   "metadata": {},
   "outputs": [
    {
     "name": "stdout",
     "output_type": "stream",
     "text": [
      "<class 'pandas.core.frame.DataFrame'>\n",
      "RangeIndex: 714 entries, 0 to 713\n",
      "Data columns (total 12 columns):\n",
      "pemasukan             714 non-null object\n",
      "pekerjaan             714 non-null object\n",
      "uang kuota            714 non-null object\n",
      "merk                  714 non-null object\n",
      "kuota Game            714 non-null int64\n",
      "kuota Email           714 non-null int64\n",
      "kuota lain            714 non-null int64\n",
      "uang lebih baik       714 non-null int64\n",
      "panik tagihan         714 non-null int64\n",
      "keuangan resah        714 non-null int64\n",
      "uang tersisa habis    714 non-null int64\n",
      "level                 714 non-null object\n",
      "dtypes: int64(7), object(5)\n",
      "memory usage: 67.0+ KB\n"
     ]
    }
   ],
   "source": [
    "data.info()"
   ]
  },
  {
   "cell_type": "code",
   "execution_count": 9,
   "metadata": {},
   "outputs": [
    {
     "data": {
      "text/plain": [
       "pemasukan             False\n",
       "pekerjaan             False\n",
       "uang kuota            False\n",
       "merk                  False\n",
       "kuota Game            False\n",
       "kuota Email           False\n",
       "kuota lain            False\n",
       "uang lebih baik       False\n",
       "panik tagihan         False\n",
       "keuangan resah        False\n",
       "uang tersisa habis    False\n",
       "level                 False\n",
       "dtype: bool"
      ]
     },
     "execution_count": 9,
     "metadata": {},
     "output_type": "execute_result"
    }
   ],
   "source": [
    "#check for missing values\n",
    "data.isnull().any()"
   ]
  },
  {
   "cell_type": "code",
   "execution_count": 10,
   "metadata": {},
   "outputs": [
    {
     "data": {
      "text/plain": [
       "pemasukan             0\n",
       "pekerjaan             0\n",
       "uang kuota            0\n",
       "merk                  0\n",
       "kuota Game            0\n",
       "kuota Email           0\n",
       "kuota lain            0\n",
       "uang lebih baik       0\n",
       "panik tagihan         0\n",
       "keuangan resah        0\n",
       "uang tersisa habis    0\n",
       "level                 0\n",
       "dtype: int64"
      ]
     },
     "execution_count": 10,
     "metadata": {},
     "output_type": "execute_result"
    }
   ],
   "source": [
    "data.isnull().sum()"
   ]
  },
  {
   "cell_type": "code",
   "execution_count": 11,
   "metadata": {},
   "outputs": [],
   "source": [
    "#Segregating the numeric and categorical variable names\n",
    "numeric_var_names = [key for key in dict(data.dtypes) if dict(data.dtypes)[key] in ['float64', 'int64', 'float32', 'int32']]\n",
    "categorical_var_names = [key for key in dict(data.dtypes) if dict(data.dtypes)[key] in ['object']]"
   ]
  },
  {
   "cell_type": "code",
   "execution_count": 12,
   "metadata": {},
   "outputs": [
    {
     "data": {
      "text/plain": [
       "['kuota Game',\n",
       " 'kuota Email',\n",
       " 'kuota lain',\n",
       " 'uang lebih baik',\n",
       " 'panik tagihan',\n",
       " 'keuangan resah',\n",
       " 'uang tersisa habis']"
      ]
     },
     "execution_count": 12,
     "metadata": {},
     "output_type": "execute_result"
    }
   ],
   "source": [
    "numeric_var_names"
   ]
  },
  {
   "cell_type": "code",
   "execution_count": 13,
   "metadata": {
    "scrolled": true
   },
   "outputs": [
    {
     "data": {
      "text/plain": [
       "['pemasukan', 'pekerjaan', 'uang kuota', 'merk', 'level']"
      ]
     },
     "execution_count": 13,
     "metadata": {},
     "output_type": "execute_result"
    }
   ],
   "source": [
    "categorical_var_names"
   ]
  },
  {
   "cell_type": "code",
   "execution_count": 14,
   "metadata": {
    "scrolled": false
   },
   "outputs": [
    {
     "data": {
      "text/plain": [
       "Rp 5.000.001 - Rp 10.000.000    198\n",
       "Rp 3.000.001 - Rp 5.000.000     147\n",
       "> Rp 10.000.001                 110\n",
       "< Rp 1.000.000                  104\n",
       "Rp 2.000.001 - Rp 3.000.000      82\n",
       "Rp 1.000.001 - Rp 2.000.000      73\n",
       "Name: pemasukan, dtype: int64"
      ]
     },
     "execution_count": 14,
     "metadata": {},
     "output_type": "execute_result"
    }
   ],
   "source": [
    "#Evaluating the number of each categorical variables\n",
    "data['pemasukan'].value_counts()"
   ]
  },
  {
   "cell_type": "code",
   "execution_count": 15,
   "metadata": {},
   "outputs": [
    {
     "data": {
      "text/plain": [
       "Rp 50.001 - Rp 100.000     294\n",
       "Rp 100.001 - Rp 200.000    213\n",
       "Rp 200.001 - Rp 500.000     99\n",
       "0 - Rp 50.000               96\n",
       "> Rp 500.001                12\n",
       "Name: uang kuota, dtype: int64"
      ]
     },
     "execution_count": 15,
     "metadata": {},
     "output_type": "execute_result"
    }
   ],
   "source": [
    "data['uang kuota'].value_counts()"
   ]
  },
  {
   "cell_type": "code",
   "execution_count": 16,
   "metadata": {},
   "outputs": [
    {
     "data": {
      "text/plain": [
       "Samsung           223\n",
       "Xiaomi            171\n",
       "Oppo               80\n",
       "iPhone             77\n",
       "Asus               47\n",
       "Vivo               44\n",
       "Selain di atas     20\n",
       "LG                 11\n",
       "Nokia              11\n",
       "Lenovo              9\n",
       "Huawei              7\n",
       "Realme              6\n",
       "SONY                6\n",
       "Motorola            2\n",
       "Name: merk, dtype: int64"
      ]
     },
     "execution_count": 16,
     "metadata": {},
     "output_type": "execute_result"
    }
   ],
   "source": [
    "data['merk'].value_counts()"
   ]
  },
  {
   "cell_type": "code",
   "execution_count": 17,
   "metadata": {
    "scrolled": true
   },
   "outputs": [
    {
     "data": {
      "text/plain": [
       "Karyawan Swasta                                        227\n",
       "PNS / BUMN / Pegawai Pemerintah                        130\n",
       "Pelajar                                                 73\n",
       "Guru atau dosen                                         70\n",
       "Ibu Rumah Tangga                                        60\n",
       "Wiraswasta / Pedagang                                   37\n",
       "Pekerja Lepas / Freelancer                              29\n",
       "Pekerja Medis (Dokter / Bidan / Apoteker / Perawat)     25\n",
       "Tidak bekerja                                           19\n",
       "Karyawan Honorer                                        15\n",
       "Peneliti                                                11\n",
       "Buruh                                                    6\n",
       "Petani / Pekebun / Peternak                              3\n",
       "Polisi atau TNI                                          3\n",
       "Pembantu Rumah Tangga                                    2\n",
       "Pensiunan                                                2\n",
       "Investor                                                 1\n",
       "Sopir                                                    1\n",
       "Name: pekerjaan, dtype: int64"
      ]
     },
     "execution_count": 17,
     "metadata": {},
     "output_type": "execute_result"
    }
   ],
   "source": [
    "data['pekerjaan'].value_counts()"
   ]
  },
  {
   "cell_type": "code",
   "execution_count": 18,
   "metadata": {},
   "outputs": [
    {
     "data": {
      "text/plain": [
       "very low risk     308\n",
       "low risk          147\n",
       "very high risk    104\n",
       "medium risk        82\n",
       "high risk          73\n",
       "Name: level, dtype: int64"
      ]
     },
     "execution_count": 18,
     "metadata": {},
     "output_type": "execute_result"
    }
   ],
   "source": [
    "#Indicator variable unique types\n",
    "\n",
    "data['level'].value_counts()"
   ]
  },
  {
   "cell_type": "code",
   "execution_count": 19,
   "metadata": {},
   "outputs": [],
   "source": [
    "#Categorize categorical variable into number\n",
    "cat_replace = {'pemasukan': {\"< Rp 1.000.000\": 1, \"Rp 1.000.001 - Rp 2.000.000\": 2, \"Rp 2.000.001 - Rp 3.000.000\": 3,\"Rp 3.000.001 - Rp 5.000.000\": 4, \"Rp 5.000.001 - Rp 10.000.000\": 5, \"> Rp 10.000.001\": 6},\n",
    "               'uang kuota':{\"0 - Rp 50.000\": 1, \"Rp 50.001 - Rp 100.000\": 2, \"Rp 100.001 - Rp 200.000\" : 3,\"Rp 200.001 - Rp 500.000\": 4, \"> Rp 500.001\": 5},              \n",
    "                'merk':{\"Samsung\": 13,\"Xiaomi\": 11,\"Oppo\": 8,\"iPhone\": 14,\"Asus\": 3,\"Vivo\": 4,\"Selain di atas\": 1,\"LG\": 10,                 \n",
    "                        \"Nokia\": 9,\"Lenovo\": 6,\"Huawei\": 12,\"SONY\": 7,\"Realme\": 2,\"Motorola\": 5},\n",
    "               'pekerjaan':{\"Karyawan Swasta\": 16,\"PNS / BUMN / Pegawai Pemerintah\": 17,\"Pelajar\": 2,\"Guru atau dosen\": 15,                                         \n",
    "                        \"Ibu Rumah Tangga\": 3,\"Wiraswasta / Pedagang\": 11,\"Pekerja Lepas / Freelancer\": 10,                              \n",
    "                        \"Pekerja Medis (Dokter / Bidan / Apoteker / Perawat)\": 13,\"Tidak bekerja\": 1,                                           \n",
    "                        \"Karyawan Honorer\": 9,\"Peneliti\": 14,\"Buruh\": 8,\"Petani / Pekebun / Peternak\": 6,                              \n",
    "                        \"Polisi atau TNI\": 12,\"Pensiunan\": 7,\"Pembantu Rumah Tangga\": 5,\"Sopir\": 4,\"Investor\": 18},\n",
    "               'level':{\"very low risk\": 1,\"low risk\": 2,\"medium risk\": 3,\"high risk\": 4,\"very high risk\": 5},\n",
    "               }"
   ]
  },
  {
   "cell_type": "code",
   "execution_count": 20,
   "metadata": {
    "scrolled": true
   },
   "outputs": [
    {
     "data": {
      "text/html": [
       "<div>\n",
       "<style scoped>\n",
       "    .dataframe tbody tr th:only-of-type {\n",
       "        vertical-align: middle;\n",
       "    }\n",
       "\n",
       "    .dataframe tbody tr th {\n",
       "        vertical-align: top;\n",
       "    }\n",
       "\n",
       "    .dataframe thead th {\n",
       "        text-align: right;\n",
       "    }\n",
       "</style>\n",
       "<table border=\"1\" class=\"dataframe\">\n",
       "  <thead>\n",
       "    <tr style=\"text-align: right;\">\n",
       "      <th></th>\n",
       "      <th>pemasukan</th>\n",
       "      <th>pekerjaan</th>\n",
       "      <th>uang kuota</th>\n",
       "      <th>merk</th>\n",
       "      <th>kuota Game</th>\n",
       "      <th>kuota Email</th>\n",
       "      <th>kuota lain</th>\n",
       "      <th>uang lebih baik</th>\n",
       "      <th>panik tagihan</th>\n",
       "      <th>keuangan resah</th>\n",
       "      <th>uang tersisa habis</th>\n",
       "      <th>level</th>\n",
       "    </tr>\n",
       "  </thead>\n",
       "  <tbody>\n",
       "    <tr>\n",
       "      <th>0</th>\n",
       "      <td>5</td>\n",
       "      <td>17</td>\n",
       "      <td>4</td>\n",
       "      <td>13</td>\n",
       "      <td>5</td>\n",
       "      <td>3</td>\n",
       "      <td>5</td>\n",
       "      <td>3</td>\n",
       "      <td>3</td>\n",
       "      <td>3</td>\n",
       "      <td>1</td>\n",
       "      <td>1</td>\n",
       "    </tr>\n",
       "    <tr>\n",
       "      <th>1</th>\n",
       "      <td>4</td>\n",
       "      <td>16</td>\n",
       "      <td>2</td>\n",
       "      <td>8</td>\n",
       "      <td>2</td>\n",
       "      <td>1</td>\n",
       "      <td>4</td>\n",
       "      <td>4</td>\n",
       "      <td>4</td>\n",
       "      <td>2</td>\n",
       "      <td>4</td>\n",
       "      <td>2</td>\n",
       "    </tr>\n",
       "    <tr>\n",
       "      <th>2</th>\n",
       "      <td>4</td>\n",
       "      <td>17</td>\n",
       "      <td>2</td>\n",
       "      <td>13</td>\n",
       "      <td>1</td>\n",
       "      <td>1</td>\n",
       "      <td>5</td>\n",
       "      <td>2</td>\n",
       "      <td>1</td>\n",
       "      <td>1</td>\n",
       "      <td>5</td>\n",
       "      <td>2</td>\n",
       "    </tr>\n",
       "    <tr>\n",
       "      <th>3</th>\n",
       "      <td>6</td>\n",
       "      <td>16</td>\n",
       "      <td>2</td>\n",
       "      <td>8</td>\n",
       "      <td>2</td>\n",
       "      <td>1</td>\n",
       "      <td>4</td>\n",
       "      <td>3</td>\n",
       "      <td>3</td>\n",
       "      <td>2</td>\n",
       "      <td>1</td>\n",
       "      <td>1</td>\n",
       "    </tr>\n",
       "    <tr>\n",
       "      <th>4</th>\n",
       "      <td>5</td>\n",
       "      <td>17</td>\n",
       "      <td>4</td>\n",
       "      <td>13</td>\n",
       "      <td>1</td>\n",
       "      <td>5</td>\n",
       "      <td>5</td>\n",
       "      <td>5</td>\n",
       "      <td>1</td>\n",
       "      <td>1</td>\n",
       "      <td>1</td>\n",
       "      <td>1</td>\n",
       "    </tr>\n",
       "  </tbody>\n",
       "</table>\n",
       "</div>"
      ],
      "text/plain": [
       "   pemasukan  pekerjaan  uang kuota  merk  kuota Game  kuota Email  \\\n",
       "0          5         17           4    13           5            3   \n",
       "1          4         16           2     8           2            1   \n",
       "2          4         17           2    13           1            1   \n",
       "3          6         16           2     8           2            1   \n",
       "4          5         17           4    13           1            5   \n",
       "\n",
       "   kuota lain  uang lebih baik  panik tagihan  keuangan resah  \\\n",
       "0           5                3              3               3   \n",
       "1           4                4              4               2   \n",
       "2           5                2              1               1   \n",
       "3           4                3              3               2   \n",
       "4           5                5              1               1   \n",
       "\n",
       "   uang tersisa habis  level  \n",
       "0                   1      1  \n",
       "1                   4      2  \n",
       "2                   5      2  \n",
       "3                   1      1  \n",
       "4                   1      1  "
      ]
     },
     "execution_count": 20,
     "metadata": {},
     "output_type": "execute_result"
    }
   ],
   "source": [
    "data2 = data.copy()\n",
    "data2.replace(cat_replace, inplace = True)\n",
    "data2.head()"
   ]
  },
  {
   "cell_type": "code",
   "execution_count": 21,
   "metadata": {},
   "outputs": [
    {
     "data": {
      "text/html": [
       "<div>\n",
       "<style scoped>\n",
       "    .dataframe tbody tr th:only-of-type {\n",
       "        vertical-align: middle;\n",
       "    }\n",
       "\n",
       "    .dataframe tbody tr th {\n",
       "        vertical-align: top;\n",
       "    }\n",
       "\n",
       "    .dataframe thead th {\n",
       "        text-align: right;\n",
       "    }\n",
       "</style>\n",
       "<table border=\"1\" class=\"dataframe\">\n",
       "  <thead>\n",
       "    <tr style=\"text-align: right;\">\n",
       "      <th></th>\n",
       "      <th>pemasukan</th>\n",
       "      <th>pekerjaan</th>\n",
       "      <th>uang kuota</th>\n",
       "      <th>merk</th>\n",
       "      <th>kuota Game</th>\n",
       "      <th>kuota Email</th>\n",
       "      <th>kuota lain</th>\n",
       "      <th>uang lebih baik</th>\n",
       "      <th>panik tagihan</th>\n",
       "      <th>keuangan resah</th>\n",
       "      <th>uang tersisa habis</th>\n",
       "      <th>level</th>\n",
       "    </tr>\n",
       "  </thead>\n",
       "  <tbody>\n",
       "    <tr>\n",
       "      <th>count</th>\n",
       "      <td>714.000000</td>\n",
       "      <td>714.000000</td>\n",
       "      <td>714.000000</td>\n",
       "      <td>714.000000</td>\n",
       "      <td>714.000000</td>\n",
       "      <td>714.000000</td>\n",
       "      <td>714.000000</td>\n",
       "      <td>714.000000</td>\n",
       "      <td>714.000000</td>\n",
       "      <td>714.000000</td>\n",
       "      <td>714.000000</td>\n",
       "      <td>714.000000</td>\n",
       "    </tr>\n",
       "    <tr>\n",
       "      <th>mean</th>\n",
       "      <td>3.829132</td>\n",
       "      <td>12.179272</td>\n",
       "      <td>2.491597</td>\n",
       "      <td>10.148459</td>\n",
       "      <td>1.627451</td>\n",
       "      <td>2.364146</td>\n",
       "      <td>3.728291</td>\n",
       "      <td>3.219888</td>\n",
       "      <td>2.309524</td>\n",
       "      <td>2.535014</td>\n",
       "      <td>1.455182</td>\n",
       "      <td>2.324930</td>\n",
       "    </tr>\n",
       "    <tr>\n",
       "      <th>std</th>\n",
       "      <td>1.644044</td>\n",
       "      <td>5.649542</td>\n",
       "      <td>0.947759</td>\n",
       "      <td>3.724801</td>\n",
       "      <td>1.049211</td>\n",
       "      <td>1.199183</td>\n",
       "      <td>1.276219</td>\n",
       "      <td>1.254712</td>\n",
       "      <td>1.178700</td>\n",
       "      <td>1.223671</td>\n",
       "      <td>0.916627</td>\n",
       "      <td>1.470904</td>\n",
       "    </tr>\n",
       "    <tr>\n",
       "      <th>min</th>\n",
       "      <td>1.000000</td>\n",
       "      <td>1.000000</td>\n",
       "      <td>1.000000</td>\n",
       "      <td>1.000000</td>\n",
       "      <td>1.000000</td>\n",
       "      <td>1.000000</td>\n",
       "      <td>1.000000</td>\n",
       "      <td>1.000000</td>\n",
       "      <td>1.000000</td>\n",
       "      <td>1.000000</td>\n",
       "      <td>1.000000</td>\n",
       "      <td>1.000000</td>\n",
       "    </tr>\n",
       "    <tr>\n",
       "      <th>25%</th>\n",
       "      <td>3.000000</td>\n",
       "      <td>9.000000</td>\n",
       "      <td>2.000000</td>\n",
       "      <td>8.000000</td>\n",
       "      <td>1.000000</td>\n",
       "      <td>1.000000</td>\n",
       "      <td>3.000000</td>\n",
       "      <td>2.000000</td>\n",
       "      <td>1.000000</td>\n",
       "      <td>2.000000</td>\n",
       "      <td>1.000000</td>\n",
       "      <td>1.000000</td>\n",
       "    </tr>\n",
       "    <tr>\n",
       "      <th>50%</th>\n",
       "      <td>4.000000</td>\n",
       "      <td>16.000000</td>\n",
       "      <td>2.000000</td>\n",
       "      <td>11.000000</td>\n",
       "      <td>1.000000</td>\n",
       "      <td>2.000000</td>\n",
       "      <td>4.000000</td>\n",
       "      <td>3.000000</td>\n",
       "      <td>2.000000</td>\n",
       "      <td>3.000000</td>\n",
       "      <td>1.000000</td>\n",
       "      <td>2.000000</td>\n",
       "    </tr>\n",
       "    <tr>\n",
       "      <th>75%</th>\n",
       "      <td>5.000000</td>\n",
       "      <td>16.000000</td>\n",
       "      <td>3.000000</td>\n",
       "      <td>13.000000</td>\n",
       "      <td>2.000000</td>\n",
       "      <td>3.000000</td>\n",
       "      <td>5.000000</td>\n",
       "      <td>4.000000</td>\n",
       "      <td>3.000000</td>\n",
       "      <td>3.000000</td>\n",
       "      <td>2.000000</td>\n",
       "      <td>3.000000</td>\n",
       "    </tr>\n",
       "    <tr>\n",
       "      <th>90%</th>\n",
       "      <td>6.000000</td>\n",
       "      <td>17.000000</td>\n",
       "      <td>4.000000</td>\n",
       "      <td>14.000000</td>\n",
       "      <td>3.000000</td>\n",
       "      <td>4.000000</td>\n",
       "      <td>5.000000</td>\n",
       "      <td>5.000000</td>\n",
       "      <td>4.000000</td>\n",
       "      <td>4.000000</td>\n",
       "      <td>3.000000</td>\n",
       "      <td>5.000000</td>\n",
       "    </tr>\n",
       "    <tr>\n",
       "      <th>95%</th>\n",
       "      <td>6.000000</td>\n",
       "      <td>17.000000</td>\n",
       "      <td>4.000000</td>\n",
       "      <td>14.000000</td>\n",
       "      <td>4.000000</td>\n",
       "      <td>5.000000</td>\n",
       "      <td>5.000000</td>\n",
       "      <td>5.000000</td>\n",
       "      <td>5.000000</td>\n",
       "      <td>5.000000</td>\n",
       "      <td>3.350000</td>\n",
       "      <td>5.000000</td>\n",
       "    </tr>\n",
       "    <tr>\n",
       "      <th>max</th>\n",
       "      <td>6.000000</td>\n",
       "      <td>18.000000</td>\n",
       "      <td>5.000000</td>\n",
       "      <td>14.000000</td>\n",
       "      <td>5.000000</td>\n",
       "      <td>5.000000</td>\n",
       "      <td>5.000000</td>\n",
       "      <td>5.000000</td>\n",
       "      <td>5.000000</td>\n",
       "      <td>5.000000</td>\n",
       "      <td>5.000000</td>\n",
       "      <td>5.000000</td>\n",
       "    </tr>\n",
       "  </tbody>\n",
       "</table>\n",
       "</div>"
      ],
      "text/plain": [
       "        pemasukan   pekerjaan  uang kuota        merk  kuota Game  \\\n",
       "count  714.000000  714.000000  714.000000  714.000000  714.000000   \n",
       "mean     3.829132   12.179272    2.491597   10.148459    1.627451   \n",
       "std      1.644044    5.649542    0.947759    3.724801    1.049211   \n",
       "min      1.000000    1.000000    1.000000    1.000000    1.000000   \n",
       "25%      3.000000    9.000000    2.000000    8.000000    1.000000   \n",
       "50%      4.000000   16.000000    2.000000   11.000000    1.000000   \n",
       "75%      5.000000   16.000000    3.000000   13.000000    2.000000   \n",
       "90%      6.000000   17.000000    4.000000   14.000000    3.000000   \n",
       "95%      6.000000   17.000000    4.000000   14.000000    4.000000   \n",
       "max      6.000000   18.000000    5.000000   14.000000    5.000000   \n",
       "\n",
       "       kuota Email  kuota lain  uang lebih baik  panik tagihan  \\\n",
       "count   714.000000  714.000000       714.000000     714.000000   \n",
       "mean      2.364146    3.728291         3.219888       2.309524   \n",
       "std       1.199183    1.276219         1.254712       1.178700   \n",
       "min       1.000000    1.000000         1.000000       1.000000   \n",
       "25%       1.000000    3.000000         2.000000       1.000000   \n",
       "50%       2.000000    4.000000         3.000000       2.000000   \n",
       "75%       3.000000    5.000000         4.000000       3.000000   \n",
       "90%       4.000000    5.000000         5.000000       4.000000   \n",
       "95%       5.000000    5.000000         5.000000       5.000000   \n",
       "max       5.000000    5.000000         5.000000       5.000000   \n",
       "\n",
       "       keuangan resah  uang tersisa habis       level  \n",
       "count      714.000000          714.000000  714.000000  \n",
       "mean         2.535014            1.455182    2.324930  \n",
       "std          1.223671            0.916627    1.470904  \n",
       "min          1.000000            1.000000    1.000000  \n",
       "25%          2.000000            1.000000    1.000000  \n",
       "50%          3.000000            1.000000    2.000000  \n",
       "75%          3.000000            2.000000    3.000000  \n",
       "90%          4.000000            3.000000    5.000000  \n",
       "95%          5.000000            3.350000    5.000000  \n",
       "max          5.000000            5.000000    5.000000  "
      ]
     },
     "execution_count": 21,
     "metadata": {},
     "output_type": "execute_result"
    }
   ],
   "source": [
    "#Describe data percentile\n",
    "data2.describe(percentiles=[.25,0.5,0.75,0.90,0.95])"
   ]
  },
  {
   "cell_type": "code",
   "execution_count": 22,
   "metadata": {},
   "outputs": [
    {
     "data": {
      "image/png": "[encoded data removed]",
      "text/plain": [
       "<Figure size 432x288 with 1 Axes>"
      ]
     },
     "metadata": {
      "needs_background": "light"
     },
     "output_type": "display_data"
    }
   ],
   "source": [
    "#Visualization Box Plot\n",
    "sns.boxplot(y = \"pemasukan\", data = data2)\n",
    "plt.title(\"Box-Plot Pemasukan\")\n",
    "plt.show()"
   ]
  },
  {
   "cell_type": "code",
   "execution_count": 23,
   "metadata": {},
   "outputs": [
    {
     "data": {
      "image/png": "[encoded data removed]",
      "text/plain": [
       "<Figure size 432x288 with 1 Axes>"
      ]
     },
     "metadata": {
      "needs_background": "light"
     },
     "output_type": "display_data"
    }
   ],
   "source": [
    "sns.boxplot(y = \"pekerjaan\", data = data2)\n",
    "plt.title(\"Box-Plot Pekerjaan\")\n",
    "plt.show()"
   ]
  },
  {
   "cell_type": "code",
   "execution_count": 24,
   "metadata": {
    "scrolled": true
   },
   "outputs": [
    {
     "data": {
      "image/png": "[encoded data removed]",
      "text/plain": [
       "<Figure size 432x288 with 1 Axes>"
      ]
     },
     "metadata": {
      "needs_background": "light"
     },
     "output_type": "display_data"
    }
   ],
   "source": [
    "sns.boxplot(y = \"uang kuota\", data = data2)\n",
    "plt.title(\"Box-Plot Uang Kuota\")\n",
    "plt.show()"
   ]
  },
  {
   "cell_type": "code",
   "execution_count": 25,
   "metadata": {},
   "outputs": [
    {
     "data": {
      "image/png": "[encoded data removed]",
      "text/plain": [
       "<Figure size 432x288 with 1 Axes>"
      ]
     },
     "metadata": {
      "needs_background": "light"
     },
     "output_type": "display_data"
    }
   ],
   "source": [
    "sns.boxplot(y = \"merk\", data = data2)\n",
    "plt.title(\"Box-Plot Merk\")\n",
    "plt.show()"
   ]
  },
  {
   "cell_type": "code",
   "execution_count": 26,
   "metadata": {},
   "outputs": [
    {
     "data": {
      "image/png": "[encoded data removed]",
      "text/plain": [
       "<Figure size 432x288 with 1 Axes>"
      ]
     },
     "metadata": {
      "needs_background": "light"
     },
     "output_type": "display_data"
    }
   ],
   "source": [
    "sns.boxplot(y = \"kuota Email\", data = data2)\n",
    "plt.title(\"Box-Plot Kuota Email\")\n",
    "plt.show()"
   ]
  },
  {
   "cell_type": "code",
   "execution_count": 27,
   "metadata": {
    "scrolled": false
   },
   "outputs": [
    {
     "data": {
      "image/png": "[encoded data removed]",
      "text/plain": [
       "<Figure size 432x288 with 1 Axes>"
      ]
     },
     "metadata": {
      "needs_background": "light"
     },
     "output_type": "display_data"
    }
   ],
   "source": [
    "sns.boxplot(y = \"kuota lain\", data = data2)\n",
    "plt.title(\"Box-Plot Kuota Lain\")\n",
    "plt.show()"
   ]
  },
  {
   "cell_type": "code",
   "execution_count": 28,
   "metadata": {},
   "outputs": [
    {
     "data": {
      "text/plain": [
       "4.5"
      ]
     },
     "execution_count": 28,
     "metadata": {},
     "output_type": "execute_result"
    }
   ],
   "source": [
    "#mengatasi outlier pada uang kuota\n",
    "uangkuota_minlimit = data2[\"uang kuota\"].quantile(0.75) + 1.5 * (data2[\"uang kuota\"].quantile(0.75) - data2[\"uang kuota\"].quantile(0.25))\n",
    "uangkuota_minlimit"
   ]
  },
  {
   "cell_type": "code",
   "execution_count": 30,
   "metadata": {},
   "outputs": [],
   "source": [
    "#menghilangkan outlier menggunakan persentil 0.95\n",
    "def outlier_capping(x):\n",
    "    x = x.clip_upper(x.quantile(0.95))\n",
    "    \n",
    "    return(x)"
   ]
  },
  {
   "cell_type": "code",
   "execution_count": 31,
   "metadata": {},
   "outputs": [],
   "source": [
    "#outlier treatment\n",
    "data2 = data2.apply(lambda x: outlier_capping(x))"
   ]
  },
  {
   "cell_type": "code",
   "execution_count": 32,
   "metadata": {},
   "outputs": [
    {
     "data": {
      "text/html": [
       "<div>\n",
       "<style scoped>\n",
       "    .dataframe tbody tr th:only-of-type {\n",
       "        vertical-align: middle;\n",
       "    }\n",
       "\n",
       "    .dataframe tbody tr th {\n",
       "        vertical-align: top;\n",
       "    }\n",
       "\n",
       "    .dataframe thead th {\n",
       "        text-align: right;\n",
       "    }\n",
       "</style>\n",
       "<table border=\"1\" class=\"dataframe\">\n",
       "  <thead>\n",
       "    <tr style=\"text-align: right;\">\n",
       "      <th></th>\n",
       "      <th>pemasukan</th>\n",
       "      <th>pekerjaan</th>\n",
       "      <th>uang kuota</th>\n",
       "      <th>merk</th>\n",
       "      <th>kuota Game</th>\n",
       "      <th>kuota Email</th>\n",
       "      <th>kuota lain</th>\n",
       "      <th>uang lebih baik</th>\n",
       "      <th>panik tagihan</th>\n",
       "      <th>keuangan resah</th>\n",
       "      <th>uang tersisa habis</th>\n",
       "      <th>level</th>\n",
       "    </tr>\n",
       "  </thead>\n",
       "  <tbody>\n",
       "    <tr>\n",
       "      <th>pemasukan</th>\n",
       "      <td>1.000000</td>\n",
       "      <td>0.566195</td>\n",
       "      <td>0.414661</td>\n",
       "      <td>0.017661</td>\n",
       "      <td>0.000552</td>\n",
       "      <td>0.222970</td>\n",
       "      <td>0.067415</td>\n",
       "      <td>0.093710</td>\n",
       "      <td>-0.177493</td>\n",
       "      <td>-0.220113</td>\n",
       "      <td>-0.032396</td>\n",
       "      <td>-0.979214</td>\n",
       "    </tr>\n",
       "    <tr>\n",
       "      <th>pekerjaan</th>\n",
       "      <td>0.566195</td>\n",
       "      <td>1.000000</td>\n",
       "      <td>0.244896</td>\n",
       "      <td>-0.009123</td>\n",
       "      <td>-0.017552</td>\n",
       "      <td>0.194800</td>\n",
       "      <td>0.045239</td>\n",
       "      <td>0.019607</td>\n",
       "      <td>-0.084753</td>\n",
       "      <td>-0.135746</td>\n",
       "      <td>-0.054249</td>\n",
       "      <td>-0.597149</td>\n",
       "    </tr>\n",
       "    <tr>\n",
       "      <th>uang kuota</th>\n",
       "      <td>0.414661</td>\n",
       "      <td>0.244896</td>\n",
       "      <td>1.000000</td>\n",
       "      <td>0.026723</td>\n",
       "      <td>0.130714</td>\n",
       "      <td>0.176550</td>\n",
       "      <td>0.183446</td>\n",
       "      <td>0.123230</td>\n",
       "      <td>0.032738</td>\n",
       "      <td>0.002051</td>\n",
       "      <td>0.014192</td>\n",
       "      <td>-0.410343</td>\n",
       "    </tr>\n",
       "    <tr>\n",
       "      <th>merk</th>\n",
       "      <td>0.017661</td>\n",
       "      <td>-0.009123</td>\n",
       "      <td>0.026723</td>\n",
       "      <td>1.000000</td>\n",
       "      <td>0.025556</td>\n",
       "      <td>0.007662</td>\n",
       "      <td>0.023250</td>\n",
       "      <td>0.035019</td>\n",
       "      <td>0.017631</td>\n",
       "      <td>-0.042375</td>\n",
       "      <td>-0.023658</td>\n",
       "      <td>-0.006513</td>\n",
       "    </tr>\n",
       "    <tr>\n",
       "      <th>kuota Game</th>\n",
       "      <td>0.000552</td>\n",
       "      <td>-0.017552</td>\n",
       "      <td>0.130714</td>\n",
       "      <td>0.025556</td>\n",
       "      <td>1.000000</td>\n",
       "      <td>0.032090</td>\n",
       "      <td>0.098230</td>\n",
       "      <td>0.118700</td>\n",
       "      <td>0.081441</td>\n",
       "      <td>0.081045</td>\n",
       "      <td>0.108165</td>\n",
       "      <td>-0.012060</td>\n",
       "    </tr>\n",
       "    <tr>\n",
       "      <th>kuota Email</th>\n",
       "      <td>0.222970</td>\n",
       "      <td>0.194800</td>\n",
       "      <td>0.176550</td>\n",
       "      <td>0.007662</td>\n",
       "      <td>0.032090</td>\n",
       "      <td>1.000000</td>\n",
       "      <td>0.106896</td>\n",
       "      <td>0.106105</td>\n",
       "      <td>0.024334</td>\n",
       "      <td>0.020928</td>\n",
       "      <td>-0.011992</td>\n",
       "      <td>-0.197577</td>\n",
       "    </tr>\n",
       "    <tr>\n",
       "      <th>kuota lain</th>\n",
       "      <td>0.067415</td>\n",
       "      <td>0.045239</td>\n",
       "      <td>0.183446</td>\n",
       "      <td>0.023250</td>\n",
       "      <td>0.098230</td>\n",
       "      <td>0.106896</td>\n",
       "      <td>1.000000</td>\n",
       "      <td>0.222172</td>\n",
       "      <td>0.119386</td>\n",
       "      <td>0.103094</td>\n",
       "      <td>0.099462</td>\n",
       "      <td>-0.080664</td>\n",
       "    </tr>\n",
       "    <tr>\n",
       "      <th>uang lebih baik</th>\n",
       "      <td>0.093710</td>\n",
       "      <td>0.019607</td>\n",
       "      <td>0.123230</td>\n",
       "      <td>0.035019</td>\n",
       "      <td>0.118700</td>\n",
       "      <td>0.106105</td>\n",
       "      <td>0.222172</td>\n",
       "      <td>1.000000</td>\n",
       "      <td>0.191948</td>\n",
       "      <td>0.172651</td>\n",
       "      <td>0.113749</td>\n",
       "      <td>-0.088924</td>\n",
       "    </tr>\n",
       "    <tr>\n",
       "      <th>panik tagihan</th>\n",
       "      <td>-0.177493</td>\n",
       "      <td>-0.084753</td>\n",
       "      <td>0.032738</td>\n",
       "      <td>0.017631</td>\n",
       "      <td>0.081441</td>\n",
       "      <td>0.024334</td>\n",
       "      <td>0.119386</td>\n",
       "      <td>0.191948</td>\n",
       "      <td>1.000000</td>\n",
       "      <td>0.496662</td>\n",
       "      <td>0.187020</td>\n",
       "      <td>0.176506</td>\n",
       "    </tr>\n",
       "    <tr>\n",
       "      <th>keuangan resah</th>\n",
       "      <td>-0.220113</td>\n",
       "      <td>-0.135746</td>\n",
       "      <td>0.002051</td>\n",
       "      <td>-0.042375</td>\n",
       "      <td>0.081045</td>\n",
       "      <td>0.020928</td>\n",
       "      <td>0.103094</td>\n",
       "      <td>0.172651</td>\n",
       "      <td>0.496662</td>\n",
       "      <td>1.000000</td>\n",
       "      <td>0.129685</td>\n",
       "      <td>0.210294</td>\n",
       "    </tr>\n",
       "    <tr>\n",
       "      <th>uang tersisa habis</th>\n",
       "      <td>-0.032396</td>\n",
       "      <td>-0.054249</td>\n",
       "      <td>0.014192</td>\n",
       "      <td>-0.023658</td>\n",
       "      <td>0.108165</td>\n",
       "      <td>-0.011992</td>\n",
       "      <td>0.099462</td>\n",
       "      <td>0.113749</td>\n",
       "      <td>0.187020</td>\n",
       "      <td>0.129685</td>\n",
       "      <td>1.000000</td>\n",
       "      <td>0.026975</td>\n",
       "    </tr>\n",
       "    <tr>\n",
       "      <th>level</th>\n",
       "      <td>-0.979214</td>\n",
       "      <td>-0.597149</td>\n",
       "      <td>-0.410343</td>\n",
       "      <td>-0.006513</td>\n",
       "      <td>-0.012060</td>\n",
       "      <td>-0.197577</td>\n",
       "      <td>-0.080664</td>\n",
       "      <td>-0.088924</td>\n",
       "      <td>0.176506</td>\n",
       "      <td>0.210294</td>\n",
       "      <td>0.026975</td>\n",
       "      <td>1.000000</td>\n",
       "    </tr>\n",
       "  </tbody>\n",
       "</table>\n",
       "</div>"
      ],
      "text/plain": [
       "                    pemasukan  pekerjaan  uang kuota      merk  kuota Game  \\\n",
       "pemasukan            1.000000   0.566195    0.414661  0.017661    0.000552   \n",
       "pekerjaan            0.566195   1.000000    0.244896 -0.009123   -0.017552   \n",
       "uang kuota           0.414661   0.244896    1.000000  0.026723    0.130714   \n",
       "merk                 0.017661  -0.009123    0.026723  1.000000    0.025556   \n",
       "kuota Game           0.000552  -0.017552    0.130714  0.025556    1.000000   \n",
       "kuota Email          0.222970   0.194800    0.176550  0.007662    0.032090   \n",
       "kuota lain           0.067415   0.045239    0.183446  0.023250    0.098230   \n",
       "uang lebih baik      0.093710   0.019607    0.123230  0.035019    0.118700   \n",
       "panik tagihan       -0.177493  -0.084753    0.032738  0.017631    0.081441   \n",
       "keuangan resah      -0.220113  -0.135746    0.002051 -0.042375    0.081045   \n",
       "uang tersisa habis  -0.032396  -0.054249    0.014192 -0.023658    0.108165   \n",
       "level               -0.979214  -0.597149   -0.410343 -0.006513   -0.012060   \n",
       "\n",
       "                    kuota Email  kuota lain  uang lebih baik  panik tagihan  \\\n",
       "pemasukan              0.222970    0.067415         0.093710      -0.177493   \n",
       "pekerjaan              0.194800    0.045239         0.019607      -0.084753   \n",
       "uang kuota             0.176550    0.183446         0.123230       0.032738   \n",
       "merk                   0.007662    0.023250         0.035019       0.017631   \n",
       "kuota Game             0.032090    0.098230         0.118700       0.081441   \n",
       "kuota Email            1.000000    0.106896         0.106105       0.024334   \n",
       "kuota lain             0.106896    1.000000         0.222172       0.119386   \n",
       "uang lebih baik        0.106105    0.222172         1.000000       0.191948   \n",
       "panik tagihan          0.024334    0.119386         0.191948       1.000000   \n",
       "keuangan resah         0.020928    0.103094         0.172651       0.496662   \n",
       "uang tersisa habis    -0.011992    0.099462         0.113749       0.187020   \n",
       "level                 -0.197577   -0.080664        -0.088924       0.176506   \n",
       "\n",
       "                    keuangan resah  uang tersisa habis     level  \n",
       "pemasukan                -0.220113           -0.032396 -0.979214  \n",
       "pekerjaan                -0.135746           -0.054249 -0.597149  \n",
       "uang kuota                0.002051            0.014192 -0.410343  \n",
       "merk                     -0.042375           -0.023658 -0.006513  \n",
       "kuota Game                0.081045            0.108165 -0.012060  \n",
       "kuota Email               0.020928           -0.011992 -0.197577  \n",
       "kuota lain                0.103094            0.099462 -0.080664  \n",
       "uang lebih baik           0.172651            0.113749 -0.088924  \n",
       "panik tagihan             0.496662            0.187020  0.176506  \n",
       "keuangan resah            1.000000            0.129685  0.210294  \n",
       "uang tersisa habis        0.129685            1.000000  0.026975  \n",
       "level                     0.210294            0.026975  1.000000  "
      ]
     },
     "execution_count": 32,
     "metadata": {},
     "output_type": "execute_result"
    }
   ],
   "source": [
    "#Correlation Matrix\n",
    "data2.corr()"
   ]
  },
  {
   "cell_type": "code",
   "execution_count": 33,
   "metadata": {
    "scrolled": true
   },
   "outputs": [
    {
     "data": {
      "image/png": "[encoded data removed]",
      "text/plain": [
       "<Figure size 432x288 with 2 Axes>"
      ]
     },
     "metadata": {
      "needs_background": "light"
     },
     "output_type": "display_data"
    }
   ],
   "source": [
    "#Visualize the correlation using seaborn heatmap\n",
    "sns.heatmap(data2.corr(),annot=True,fmt=\"0.2f\",cmap=\"coolwarm\")\n",
    "plt.show()"
   ]
  },
  {
   "cell_type": "code",
   "execution_count": 34,
   "metadata": {
    "scrolled": false
   },
   "outputs": [
    {
     "data": {
      "image/png": "[encoded data removed]",
      "text/plain": [
       "<Figure size 432x288 with 1 Axes>"
      ]
     },
     "metadata": {
      "needs_background": "light"
     },
     "output_type": "display_data"
    }
   ],
   "source": [
    "data2['level'].value_counts().plot.bar()\n",
    "plt.xlabel(\"level\")\n",
    "plt.ylabel(\"count\")\n",
    "plt.title(\"Distribution of risk level\")\n",
    "plt.show()"
   ]
  },
  {
   "cell_type": "code",
   "execution_count": 35,
   "metadata": {
    "scrolled": false
   },
   "outputs": [
    {
     "data": {
      "text/plain": [
       "1.0    43.137\n",
       "2.0    20.588\n",
       "5.0    14.566\n",
       "3.0    11.485\n",
       "4.0    10.224\n",
       "Name: level, dtype: float64"
      ]
     },
     "execution_count": 35,
     "metadata": {},
     "output_type": "execute_result"
    }
   ],
   "source": [
    "#percentage of unique types in indicator variable\n",
    "\n",
    "round(data2['level'].value_counts()/data2.shape[0] * 100,3)"
   ]
  },
  {
   "cell_type": "code",
   "execution_count": 36,
   "metadata": {
    "scrolled": true
   },
   "outputs": [
    {
     "name": "stdout",
     "output_type": "stream",
     "text": [
      "               sum_sq     df             F  PR(>F)\n",
      "level     1847.870187    1.0  16594.592165     0.0\n",
      "Residual    79.283875  712.0           NaN     NaN\n"
     ]
    }
   ],
   "source": [
    "import statsmodels.api as sm\n",
    "from statsmodels.formula.api import ols\n",
    "\n",
    "mod = ols('pemasukan ~ level',\n",
    "                data=data2).fit()\n",
    "                \n",
    "aov_table = sm.stats.anova_lm(mod, typ=2)\n",
    "print(aov_table)"
   ]
  },
  {
   "cell_type": "code",
   "execution_count": null,
   "metadata": {},
   "outputs": [],
   "source": [
    "#With 95% confidence, alpha = 0.05 , df1 =1 ,df2 =712 given F value from the F table is 3.855 \n",
    "#and the calculated F value is 16594.592165.\n",
    "#we see that the calculated F value falls in the rejection region that is beyond our confidence level. \n",
    "#So we are rejecting the Null Hypothesis.\n",
    "#To Conclude, as the null hypothesis is rejected that means \n",
    "#variance exists between the groups which state that there is an impact of the guardian on student final score. \n",
    "#So we will include this feature for model training.\n"
   ]
  },
  {
   "cell_type": "code",
   "execution_count": 37,
   "metadata": {},
   "outputs": [
    {
     "data": {
      "text/html": [
       "<div>\n",
       "<style scoped>\n",
       "    .dataframe tbody tr th:only-of-type {\n",
       "        vertical-align: middle;\n",
       "    }\n",
       "\n",
       "    .dataframe tbody tr th {\n",
       "        vertical-align: top;\n",
       "    }\n",
       "\n",
       "    .dataframe thead th {\n",
       "        text-align: right;\n",
       "    }\n",
       "</style>\n",
       "<table border=\"1\" class=\"dataframe\">\n",
       "  <thead>\n",
       "    <tr style=\"text-align: right;\">\n",
       "      <th></th>\n",
       "      <th>pemasukan</th>\n",
       "      <th>pekerjaan</th>\n",
       "      <th>uang_kuota</th>\n",
       "      <th>merk</th>\n",
       "      <th>kuota_Game</th>\n",
       "      <th>kuota_Email</th>\n",
       "      <th>kuota_lain</th>\n",
       "      <th>uang_lebih_baik</th>\n",
       "      <th>panik_tagihan</th>\n",
       "      <th>keuangan_resah</th>\n",
       "      <th>uang_tersisa_habis</th>\n",
       "      <th>level</th>\n",
       "    </tr>\n",
       "  </thead>\n",
       "  <tbody>\n",
       "    <tr>\n",
       "      <th>0</th>\n",
       "      <td>5.0</td>\n",
       "      <td>17.0</td>\n",
       "      <td>4.0</td>\n",
       "      <td>13.0</td>\n",
       "      <td>4.0</td>\n",
       "      <td>3.0</td>\n",
       "      <td>5.0</td>\n",
       "      <td>3.0</td>\n",
       "      <td>3.0</td>\n",
       "      <td>3.0</td>\n",
       "      <td>1.00</td>\n",
       "      <td>1.0</td>\n",
       "    </tr>\n",
       "    <tr>\n",
       "      <th>1</th>\n",
       "      <td>4.0</td>\n",
       "      <td>16.0</td>\n",
       "      <td>2.0</td>\n",
       "      <td>8.0</td>\n",
       "      <td>2.0</td>\n",
       "      <td>1.0</td>\n",
       "      <td>4.0</td>\n",
       "      <td>4.0</td>\n",
       "      <td>4.0</td>\n",
       "      <td>2.0</td>\n",
       "      <td>3.35</td>\n",
       "      <td>2.0</td>\n",
       "    </tr>\n",
       "    <tr>\n",
       "      <th>2</th>\n",
       "      <td>4.0</td>\n",
       "      <td>17.0</td>\n",
       "      <td>2.0</td>\n",
       "      <td>13.0</td>\n",
       "      <td>1.0</td>\n",
       "      <td>1.0</td>\n",
       "      <td>5.0</td>\n",
       "      <td>2.0</td>\n",
       "      <td>1.0</td>\n",
       "      <td>1.0</td>\n",
       "      <td>3.35</td>\n",
       "      <td>2.0</td>\n",
       "    </tr>\n",
       "    <tr>\n",
       "      <th>3</th>\n",
       "      <td>6.0</td>\n",
       "      <td>16.0</td>\n",
       "      <td>2.0</td>\n",
       "      <td>8.0</td>\n",
       "      <td>2.0</td>\n",
       "      <td>1.0</td>\n",
       "      <td>4.0</td>\n",
       "      <td>3.0</td>\n",
       "      <td>3.0</td>\n",
       "      <td>2.0</td>\n",
       "      <td>1.00</td>\n",
       "      <td>1.0</td>\n",
       "    </tr>\n",
       "    <tr>\n",
       "      <th>4</th>\n",
       "      <td>5.0</td>\n",
       "      <td>17.0</td>\n",
       "      <td>4.0</td>\n",
       "      <td>13.0</td>\n",
       "      <td>1.0</td>\n",
       "      <td>5.0</td>\n",
       "      <td>5.0</td>\n",
       "      <td>5.0</td>\n",
       "      <td>1.0</td>\n",
       "      <td>1.0</td>\n",
       "      <td>1.00</td>\n",
       "      <td>1.0</td>\n",
       "    </tr>\n",
       "  </tbody>\n",
       "</table>\n",
       "</div>"
      ],
      "text/plain": [
       "   pemasukan  pekerjaan  uang_kuota  merk  kuota_Game  kuota_Email  \\\n",
       "0        5.0       17.0         4.0  13.0         4.0          3.0   \n",
       "1        4.0       16.0         2.0   8.0         2.0          1.0   \n",
       "2        4.0       17.0         2.0  13.0         1.0          1.0   \n",
       "3        6.0       16.0         2.0   8.0         2.0          1.0   \n",
       "4        5.0       17.0         4.0  13.0         1.0          5.0   \n",
       "\n",
       "   kuota_lain  uang_lebih_baik  panik_tagihan  keuangan_resah  \\\n",
       "0         5.0              3.0            3.0             3.0   \n",
       "1         4.0              4.0            4.0             2.0   \n",
       "2         5.0              2.0            1.0             1.0   \n",
       "3         4.0              3.0            3.0             2.0   \n",
       "4         5.0              5.0            1.0             1.0   \n",
       "\n",
       "   uang_tersisa_habis  level  \n",
       "0                1.00    1.0  \n",
       "1                3.35    2.0  \n",
       "2                3.35    2.0  \n",
       "3                1.00    1.0  \n",
       "4                1.00    1.0  "
      ]
     },
     "execution_count": 37,
     "metadata": {},
     "output_type": "execute_result"
    }
   ],
   "source": [
    "from statsmodels.multivariate.manova import MANOVA\n",
    "df = data2\n",
    "df.columns = df.columns.str.replace(\" \", \"_\") \n",
    "df.head()"
   ]
  },
  {
   "cell_type": "code",
   "execution_count": 38,
   "metadata": {},
   "outputs": [
    {
     "name": "stdout",
     "output_type": "stream",
     "text": [
      "                    Multivariate linear model\n",
      "==================================================================\n",
      "                                                                  \n",
      "------------------------------------------------------------------\n",
      "       Intercept         Value    Num DF  Den DF   F Value  Pr > F\n",
      "------------------------------------------------------------------\n",
      "          Wilks' lambda   0.0078 11.0000 702.0000 8136.7667 0.0000\n",
      "         Pillai's trace   0.9922 11.0000 702.0000 8136.7667 0.0000\n",
      " Hotelling-Lawley trace 127.4992 11.0000 702.0000 8136.7667 0.0000\n",
      "    Roy's greatest root 127.4992 11.0000 702.0000 8136.7667 0.0000\n",
      "------------------------------------------------------------------\n",
      "                                                                  \n",
      "------------------------------------------------------------------\n",
      "          level           Value   Num DF  Den DF   F Value  Pr > F\n",
      "------------------------------------------------------------------\n",
      "           Wilks' lambda  0.0371 11.0000 702.0000 1654.7325 0.0000\n",
      "          Pillai's trace  0.9629 11.0000 702.0000 1654.7325 0.0000\n",
      "  Hotelling-Lawley trace 25.9289 11.0000 702.0000 1654.7325 0.0000\n",
      "     Roy's greatest root 25.9289 11.0000 702.0000 1654.7325 0.0000\n",
      "==================================================================\n",
      "\n"
     ]
    }
   ],
   "source": [
    "maov = MANOVA.from_formula('pemasukan+pekerjaan+uang_kuota+merk+kuota_Game+kuota_Email+kuota_lain+panik_tagihan+uang_lebih_baik+keuangan_resah+uang_tersisa_habis  ~ level', data=df)\n",
    "print(maov.mv_test())"
   ]
  },
  {
   "cell_type": "code",
   "execution_count": 39,
   "metadata": {},
   "outputs": [],
   "source": [
    "#Data Exploratory Analysis\n",
    "\n",
    "def BivariateAnalysisPlot(segment_by):\n",
    "    \"\"\"A funtion to analyze the impact of features on the target variable\"\"\"\n",
    "    \n",
    "    fig, ax = plt.subplots(ncols=1,figsize = (10,8))\n",
    "    \n",
    "    #boxplot\n",
    "    sns.boxplot(x = 'level', y = segment_by, data=data2)\n",
    "    plt.title(\"Box plot of \"+segment_by)\n",
    "      \n",
    "    plt.show()"
   ]
  },
  {
   "cell_type": "code",
   "execution_count": 40,
   "metadata": {
    "scrolled": true
   },
   "outputs": [
    {
     "data": {
      "image/png": "[encoded data removed]",
      "text/plain": [
       "<Figure size 720x576 with 1 Axes>"
      ]
     },
     "metadata": {
      "needs_background": "light"
     },
     "output_type": "display_data"
    }
   ],
   "source": [
    "BivariateAnalysisPlot(\"pemasukan\")"
   ]
  },
  {
   "cell_type": "code",
   "execution_count": 41,
   "metadata": {},
   "outputs": [
    {
     "data": {
      "image/png": "[encoded data removed]",
      "text/plain": [
       "<Figure size 720x576 with 1 Axes>"
      ]
     },
     "metadata": {
      "needs_background": "light"
     },
     "output_type": "display_data"
    }
   ],
   "source": [
    "BivariateAnalysisPlot(\"uang_lebih_baik\")"
   ]
  },
  {
   "cell_type": "code",
   "execution_count": 42,
   "metadata": {},
   "outputs": [
    {
     "data": {
      "image/png": "[encoded data removed]",
      "text/plain": [
       "<Figure size 720x576 with 1 Axes>"
      ]
     },
     "metadata": {
      "needs_background": "light"
     },
     "output_type": "display_data"
    }
   ],
   "source": [
    "BivariateAnalysisPlot(\"panik_tagihan\")"
   ]
  },
  {
   "cell_type": "code",
   "execution_count": 43,
   "metadata": {},
   "outputs": [
    {
     "data": {
      "image/png": "[encoded data removed]",
      "text/plain": [
       "<Figure size 720x576 with 1 Axes>"
      ]
     },
     "metadata": {
      "needs_background": "light"
     },
     "output_type": "display_data"
    }
   ],
   "source": [
    "BivariateAnalysisPlot(\"keuangan_resah\")"
   ]
  },
  {
   "cell_type": "code",
   "execution_count": 44,
   "metadata": {
    "scrolled": true
   },
   "outputs": [
    {
     "data": {
      "image/png": "[encoded data removed]",
      "text/plain": [
       "<Figure size 720x576 with 1 Axes>"
      ]
     },
     "metadata": {
      "needs_background": "light"
     },
     "output_type": "display_data"
    }
   ],
   "source": [
    "BivariateAnalysisPlot(\"uang_tersisa_habis\")"
   ]
  },
  {
   "cell_type": "code",
   "execution_count": 45,
   "metadata": {},
   "outputs": [
    {
     "data": {
      "text/plain": [
       "'keuangan_resah+kuota_Email+kuota_Game+kuota_lain+merk+panik_tagihan+pekerjaan+pemasukan+uang_kuota+uang_lebih_baik+uang_tersisa_habis'"
      ]
     },
     "execution_count": 45,
     "metadata": {},
     "output_type": "execute_result"
    }
   ],
   "source": [
    "from patsy import dmatrices\n",
    "from statsmodels.stats.outliers_influence import variance_inflation_factor\n",
    "features = \"+\".join(data2.columns.difference([\"level\"]))\n",
    "features"
   ]
  },
  {
   "cell_type": "code",
   "execution_count": 46,
   "metadata": {
    "scrolled": true
   },
   "outputs": [
    {
     "data": {
      "text/html": [
       "<div>\n",
       "<style scoped>\n",
       "    .dataframe tbody tr th:only-of-type {\n",
       "        vertical-align: middle;\n",
       "    }\n",
       "\n",
       "    .dataframe tbody tr th {\n",
       "        vertical-align: top;\n",
       "    }\n",
       "\n",
       "    .dataframe thead th {\n",
       "        text-align: right;\n",
       "    }\n",
       "</style>\n",
       "<table border=\"1\" class=\"dataframe\">\n",
       "  <thead>\n",
       "    <tr style=\"text-align: right;\">\n",
       "      <th></th>\n",
       "      <th>VIF Factor</th>\n",
       "      <th>Features</th>\n",
       "    </tr>\n",
       "  </thead>\n",
       "  <tbody>\n",
       "    <tr>\n",
       "      <th>0</th>\n",
       "      <td>35.177349</td>\n",
       "      <td>Intercept</td>\n",
       "    </tr>\n",
       "    <tr>\n",
       "      <th>1</th>\n",
       "      <td>1.393129</td>\n",
       "      <td>keuangan_resah</td>\n",
       "    </tr>\n",
       "    <tr>\n",
       "      <th>2</th>\n",
       "      <td>1.084825</td>\n",
       "      <td>kuota_Email</td>\n",
       "    </tr>\n",
       "    <tr>\n",
       "      <th>3</th>\n",
       "      <td>1.047106</td>\n",
       "      <td>kuota_Game</td>\n",
       "    </tr>\n",
       "    <tr>\n",
       "      <th>4</th>\n",
       "      <td>1.099926</td>\n",
       "      <td>kuota_lain</td>\n",
       "    </tr>\n",
       "    <tr>\n",
       "      <th>5</th>\n",
       "      <td>1.007872</td>\n",
       "      <td>merk</td>\n",
       "    </tr>\n",
       "    <tr>\n",
       "      <th>6</th>\n",
       "      <td>1.399993</td>\n",
       "      <td>panik_tagihan</td>\n",
       "    </tr>\n",
       "    <tr>\n",
       "      <th>7</th>\n",
       "      <td>1.492265</td>\n",
       "      <td>pekerjaan</td>\n",
       "    </tr>\n",
       "    <tr>\n",
       "      <th>8</th>\n",
       "      <td>1.807412</td>\n",
       "      <td>pemasukan</td>\n",
       "    </tr>\n",
       "    <tr>\n",
       "      <th>9</th>\n",
       "      <td>1.285625</td>\n",
       "      <td>uang_kuota</td>\n",
       "    </tr>\n",
       "    <tr>\n",
       "      <th>10</th>\n",
       "      <td>1.129671</td>\n",
       "      <td>uang_lebih_baik</td>\n",
       "    </tr>\n",
       "    <tr>\n",
       "      <th>11</th>\n",
       "      <td>1.059859</td>\n",
       "      <td>uang_tersisa_habis</td>\n",
       "    </tr>\n",
       "  </tbody>\n",
       "</table>\n",
       "</div>"
      ],
      "text/plain": [
       "    VIF Factor            Features\n",
       "0    35.177349           Intercept\n",
       "1     1.393129      keuangan_resah\n",
       "2     1.084825         kuota_Email\n",
       "3     1.047106          kuota_Game\n",
       "4     1.099926          kuota_lain\n",
       "5     1.007872                merk\n",
       "6     1.399993       panik_tagihan\n",
       "7     1.492265           pekerjaan\n",
       "8     1.807412           pemasukan\n",
       "9     1.285625          uang_kuota\n",
       "10    1.129671     uang_lebih_baik\n",
       "11    1.059859  uang_tersisa_habis"
      ]
     },
     "execution_count": 46,
     "metadata": {},
     "output_type": "execute_result"
    }
   ],
   "source": [
    "#perform vif\n",
    "\n",
    "a, b = dmatrices(formula_like= 'level ~ ' + features,data=data2,return_type=\"dataframe\")\n",
    "vif = pd.DataFrame()\n",
    "\n",
    "vif[\"VIF Factor\"] = [variance_inflation_factor(b.values, i) for i in range(b.shape[1])]\n",
    "vif[\"Features\"] = b.columns\n",
    "vif\n",
    "\n"
   ]
  },
  {
   "cell_type": "code",
   "execution_count": null,
   "metadata": {},
   "outputs": [],
   "source": [
    "#hasil VIF menunjukan tidak ada indikasi multikolinearitas karena nilai VIF kecil\n",
    "# Cara mendeteksi adanya Multikolinearitas di dalam model regresi adalah dengan cara:\n",
    "\n",
    "# Melihat kekuatan korelasi antar variabel bebas. Jika ada korelasi antar variabel bebas > 0,8 dapat diindikasikan adanya multikolinearitas.\n",
    "# Melihat nilai standar error koefisien regresi parsial. Jika ada nilai standar error > 1, maka dapat diindikasikan adanya multikolinearitas.\n",
    "# Melihat rentang confidence interval. Jika rentang confidence interval sangat lebar, maka dapat diindikasikan adanya multikolinearitas.\n",
    "# Melihat nilai Condition Index dan eigenvalue. Jika nilai condition index > 30 dan nilai eigenvalue < 0,001 dapat diindikasikan adanya multikolinearitas.\n",
    "# Melihat nilai Tolerance dan Variance Inflating Factor (VIF). Jika nilai Tolerance < 0,1 dan VIF > 10 dapat diindikasikan adanya multikolinearitas. Sebagian pakar menggunakan batasan Tolerance < 0,2 dan VIF > 5 dalam menentukan adanya multikolinearitas. Para pakar juga lebih banyak menggunakan nilai Tolerance dan VIF dalam menentukan adanya Multikolinearitas di dalam model regresi linear berganda dibandingkan menggunakan parameter-parameter yang lainnya. Hal ini juga dalam prakteknya menggunakan SPSS, kita sudah disuguhkan dengan hasil yang instant, dimana kita bisa langsung lihat nilai keduanya di dalam output SPSS.\n",
    "\n",
    "# Kapan Bisa Dipertahankan\n",
    "# Nilai VIF tinggi hanya pada variabel kontrol, sedangkan pada variabel interest, nilai VIF rendah.\n",
    "# Nilai VIF tinggi yang disebabkan oleh sebab inklusi karena hasil perkalian atau kuadrat di dalam model, namun kedua variabel tersebut berkorelasi kuat terhadap hasil perkaliannya.\n",
    "# Model regresi dengan variabel dummy dengan jumlah kategori variabel dummy adalah tiga kategori atau lebih."
   ]
  },
  {
   "cell_type": "code",
   "execution_count": 47,
   "metadata": {},
   "outputs": [
    {
     "data": {
      "text/html": [
       "<div>\n",
       "<style scoped>\n",
       "    .dataframe tbody tr th:only-of-type {\n",
       "        vertical-align: middle;\n",
       "    }\n",
       "\n",
       "    .dataframe tbody tr th {\n",
       "        vertical-align: top;\n",
       "    }\n",
       "\n",
       "    .dataframe thead th {\n",
       "        text-align: right;\n",
       "    }\n",
       "</style>\n",
       "<table border=\"1\" class=\"dataframe\">\n",
       "  <thead>\n",
       "    <tr style=\"text-align: right;\">\n",
       "      <th></th>\n",
       "      <th>pemasukan</th>\n",
       "      <th>pekerjaan</th>\n",
       "      <th>uang_kuota</th>\n",
       "      <th>merk</th>\n",
       "      <th>kuota_Game</th>\n",
       "      <th>kuota_Email</th>\n",
       "      <th>kuota_lain</th>\n",
       "      <th>uang_lebih_baik</th>\n",
       "      <th>panik_tagihan</th>\n",
       "      <th>keuangan_resah</th>\n",
       "      <th>uang_tersisa_habis</th>\n",
       "    </tr>\n",
       "  </thead>\n",
       "  <tbody>\n",
       "    <tr>\n",
       "      <th>310</th>\n",
       "      <td>5.0</td>\n",
       "      <td>17.0</td>\n",
       "      <td>2.0</td>\n",
       "      <td>11.0</td>\n",
       "      <td>2.0</td>\n",
       "      <td>2.0</td>\n",
       "      <td>4.0</td>\n",
       "      <td>4.0</td>\n",
       "      <td>4.0</td>\n",
       "      <td>4.0</td>\n",
       "      <td>2.0</td>\n",
       "    </tr>\n",
       "    <tr>\n",
       "      <th>542</th>\n",
       "      <td>6.0</td>\n",
       "      <td>16.0</td>\n",
       "      <td>3.0</td>\n",
       "      <td>11.0</td>\n",
       "      <td>2.0</td>\n",
       "      <td>2.0</td>\n",
       "      <td>5.0</td>\n",
       "      <td>5.0</td>\n",
       "      <td>1.0</td>\n",
       "      <td>1.0</td>\n",
       "      <td>1.0</td>\n",
       "    </tr>\n",
       "    <tr>\n",
       "      <th>17</th>\n",
       "      <td>1.0</td>\n",
       "      <td>3.0</td>\n",
       "      <td>2.0</td>\n",
       "      <td>9.0</td>\n",
       "      <td>2.0</td>\n",
       "      <td>3.0</td>\n",
       "      <td>3.0</td>\n",
       "      <td>4.0</td>\n",
       "      <td>3.0</td>\n",
       "      <td>3.0</td>\n",
       "      <td>1.0</td>\n",
       "    </tr>\n",
       "    <tr>\n",
       "      <th>266</th>\n",
       "      <td>2.0</td>\n",
       "      <td>16.0</td>\n",
       "      <td>1.0</td>\n",
       "      <td>13.0</td>\n",
       "      <td>1.0</td>\n",
       "      <td>2.0</td>\n",
       "      <td>3.0</td>\n",
       "      <td>3.0</td>\n",
       "      <td>1.0</td>\n",
       "      <td>2.0</td>\n",
       "      <td>1.0</td>\n",
       "    </tr>\n",
       "    <tr>\n",
       "      <th>318</th>\n",
       "      <td>4.0</td>\n",
       "      <td>10.0</td>\n",
       "      <td>3.0</td>\n",
       "      <td>8.0</td>\n",
       "      <td>1.0</td>\n",
       "      <td>4.0</td>\n",
       "      <td>3.0</td>\n",
       "      <td>4.0</td>\n",
       "      <td>2.0</td>\n",
       "      <td>2.0</td>\n",
       "      <td>1.0</td>\n",
       "    </tr>\n",
       "  </tbody>\n",
       "</table>\n",
       "</div>"
      ],
      "text/plain": [
       "     pemasukan  pekerjaan  uang_kuota  merk  kuota_Game  kuota_Email  \\\n",
       "310        5.0       17.0         2.0  11.0         2.0          2.0   \n",
       "542        6.0       16.0         3.0  11.0         2.0          2.0   \n",
       "17         1.0        3.0         2.0   9.0         2.0          3.0   \n",
       "266        2.0       16.0         1.0  13.0         1.0          2.0   \n",
       "318        4.0       10.0         3.0   8.0         1.0          4.0   \n",
       "\n",
       "     kuota_lain  uang_lebih_baik  panik_tagihan  keuangan_resah  \\\n",
       "310         4.0              4.0            4.0             4.0   \n",
       "542         5.0              5.0            1.0             1.0   \n",
       "17          3.0              4.0            3.0             3.0   \n",
       "266         3.0              3.0            1.0             2.0   \n",
       "318         3.0              4.0            2.0             2.0   \n",
       "\n",
       "     uang_tersisa_habis  \n",
       "310                 2.0  \n",
       "542                 1.0  \n",
       "17                  1.0  \n",
       "266                 1.0  \n",
       "318                 1.0  "
      ]
     },
     "execution_count": 47,
     "metadata": {},
     "output_type": "execute_result"
    }
   ],
   "source": [
    "#Split data into testing and training set\n",
    "X = data2.drop('level',axis=1)\n",
    "Y = data2.level\n",
    "X_train, X_test, Y_train, Y_test = train_test_split(X, Y, test_size = 0.2, random_state = 0)\n",
    "X_train.head()"
   ]
  },
  {
   "cell_type": "code",
   "execution_count": 48,
   "metadata": {},
   "outputs": [
    {
     "data": {
      "text/plain": [
       "(571, 11)"
      ]
     },
     "execution_count": 48,
     "metadata": {},
     "output_type": "execute_result"
    }
   ],
   "source": [
    "X_train.shape"
   ]
  },
  {
   "cell_type": "code",
   "execution_count": 49,
   "metadata": {},
   "outputs": [
    {
     "data": {
      "text/html": [
       "<div>\n",
       "<style scoped>\n",
       "    .dataframe tbody tr th:only-of-type {\n",
       "        vertical-align: middle;\n",
       "    }\n",
       "\n",
       "    .dataframe tbody tr th {\n",
       "        vertical-align: top;\n",
       "    }\n",
       "\n",
       "    .dataframe thead th {\n",
       "        text-align: right;\n",
       "    }\n",
       "</style>\n",
       "<table border=\"1\" class=\"dataframe\">\n",
       "  <thead>\n",
       "    <tr style=\"text-align: right;\">\n",
       "      <th></th>\n",
       "      <th>pemasukan</th>\n",
       "      <th>pekerjaan</th>\n",
       "      <th>uang_kuota</th>\n",
       "      <th>merk</th>\n",
       "      <th>kuota_Game</th>\n",
       "      <th>kuota_Email</th>\n",
       "      <th>kuota_lain</th>\n",
       "      <th>uang_lebih_baik</th>\n",
       "      <th>panik_tagihan</th>\n",
       "      <th>keuangan_resah</th>\n",
       "      <th>uang_tersisa_habis</th>\n",
       "    </tr>\n",
       "  </thead>\n",
       "  <tbody>\n",
       "    <tr>\n",
       "      <th>339</th>\n",
       "      <td>2.0</td>\n",
       "      <td>15.0</td>\n",
       "      <td>3.0</td>\n",
       "      <td>13.0</td>\n",
       "      <td>1.0</td>\n",
       "      <td>2.0</td>\n",
       "      <td>3.0</td>\n",
       "      <td>2.0</td>\n",
       "      <td>4.0</td>\n",
       "      <td>1.0</td>\n",
       "      <td>3.35</td>\n",
       "    </tr>\n",
       "    <tr>\n",
       "      <th>142</th>\n",
       "      <td>3.0</td>\n",
       "      <td>15.0</td>\n",
       "      <td>2.0</td>\n",
       "      <td>9.0</td>\n",
       "      <td>1.0</td>\n",
       "      <td>2.0</td>\n",
       "      <td>5.0</td>\n",
       "      <td>1.0</td>\n",
       "      <td>2.0</td>\n",
       "      <td>5.0</td>\n",
       "      <td>1.00</td>\n",
       "    </tr>\n",
       "    <tr>\n",
       "      <th>243</th>\n",
       "      <td>5.0</td>\n",
       "      <td>11.0</td>\n",
       "      <td>3.0</td>\n",
       "      <td>10.0</td>\n",
       "      <td>1.0</td>\n",
       "      <td>1.0</td>\n",
       "      <td>4.0</td>\n",
       "      <td>4.0</td>\n",
       "      <td>3.0</td>\n",
       "      <td>3.0</td>\n",
       "      <td>2.00</td>\n",
       "    </tr>\n",
       "    <tr>\n",
       "      <th>236</th>\n",
       "      <td>5.0</td>\n",
       "      <td>3.0</td>\n",
       "      <td>2.0</td>\n",
       "      <td>13.0</td>\n",
       "      <td>4.0</td>\n",
       "      <td>1.0</td>\n",
       "      <td>3.0</td>\n",
       "      <td>2.0</td>\n",
       "      <td>3.0</td>\n",
       "      <td>3.0</td>\n",
       "      <td>1.00</td>\n",
       "    </tr>\n",
       "    <tr>\n",
       "      <th>712</th>\n",
       "      <td>5.0</td>\n",
       "      <td>13.0</td>\n",
       "      <td>3.0</td>\n",
       "      <td>13.0</td>\n",
       "      <td>1.0</td>\n",
       "      <td>2.0</td>\n",
       "      <td>4.0</td>\n",
       "      <td>2.0</td>\n",
       "      <td>1.0</td>\n",
       "      <td>2.0</td>\n",
       "      <td>1.00</td>\n",
       "    </tr>\n",
       "  </tbody>\n",
       "</table>\n",
       "</div>"
      ],
      "text/plain": [
       "     pemasukan  pekerjaan  uang_kuota  merk  kuota_Game  kuota_Email  \\\n",
       "339        2.0       15.0         3.0  13.0         1.0          2.0   \n",
       "142        3.0       15.0         2.0   9.0         1.0          2.0   \n",
       "243        5.0       11.0         3.0  10.0         1.0          1.0   \n",
       "236        5.0        3.0         2.0  13.0         4.0          1.0   \n",
       "712        5.0       13.0         3.0  13.0         1.0          2.0   \n",
       "\n",
       "     kuota_lain  uang_lebih_baik  panik_tagihan  keuangan_resah  \\\n",
       "339         3.0              2.0            4.0             1.0   \n",
       "142         5.0              1.0            2.0             5.0   \n",
       "243         4.0              4.0            3.0             3.0   \n",
       "236         3.0              2.0            3.0             3.0   \n",
       "712         4.0              2.0            1.0             2.0   \n",
       "\n",
       "     uang_tersisa_habis  \n",
       "339                3.35  \n",
       "142                1.00  \n",
       "243                2.00  \n",
       "236                1.00  \n",
       "712                1.00  "
      ]
     },
     "execution_count": 49,
     "metadata": {},
     "output_type": "execute_result"
    }
   ],
   "source": [
    "X_test.head()"
   ]
  },
  {
   "cell_type": "code",
   "execution_count": 50,
   "metadata": {
    "scrolled": true
   },
   "outputs": [
    {
     "data": {
      "text/plain": [
       "(143, 11)"
      ]
     },
     "execution_count": 50,
     "metadata": {},
     "output_type": "execute_result"
    }
   ],
   "source": [
    "X_test.shape"
   ]
  },
  {
   "cell_type": "code",
   "execution_count": 51,
   "metadata": {},
   "outputs": [
    {
     "data": {
      "text/plain": [
       "1.0    42.382\n",
       "2.0    19.965\n",
       "5.0    14.361\n",
       "3.0    12.609\n",
       "4.0    10.683\n",
       "Name: level, dtype: float64"
      ]
     },
     "execution_count": 51,
     "metadata": {},
     "output_type": "execute_result"
    }
   ],
   "source": [
    "round(Y_train.value_counts()/Y_train.shape[0] * 100,3)"
   ]
  },
  {
   "cell_type": "code",
   "execution_count": 52,
   "metadata": {},
   "outputs": [
    {
     "data": {
      "text/plain": [
       "Index(['keuangan_resah', 'kuota_Email', 'kuota_Game', 'kuota_lain', 'merk',\n",
       "       'panik_tagihan', 'pekerjaan', 'pemasukan', 'uang_kuota',\n",
       "       'uang_lebih_baik', 'uang_tersisa_habis'],\n",
       "      dtype='object')"
      ]
     },
     "execution_count": 52,
     "metadata": {},
     "output_type": "execute_result"
    }
   ],
   "source": [
    "featurecolumns = data2.columns.difference(['level'])\n",
    "featurecolumns"
   ]
  },
  {
   "cell_type": "code",
   "execution_count": 53,
   "metadata": {},
   "outputs": [
    {
     "data": {
      "text/plain": [
       "LogisticRegression(C=10000.0, class_weight=None, dual=False,\n",
       "          fit_intercept=True, intercept_scaling=1, max_iter=100,\n",
       "          multi_class='ovr', n_jobs=1, penalty='l2', random_state=None,\n",
       "          solver='liblinear', tol=0.0001, verbose=0, warm_start=False)"
      ]
     },
     "execution_count": 53,
     "metadata": {},
     "output_type": "execute_result"
    }
   ],
   "source": [
    "#Model building\n",
    "#Logistic Regression\n",
    "logreg = LogisticRegression(C=1e4)\n",
    "logreg.fit(X_train,Y_train)"
   ]
  },
  {
   "cell_type": "code",
   "execution_count": 54,
   "metadata": {},
   "outputs": [
    {
     "data": {
      "text/html": [
       "<div>\n",
       "<style scoped>\n",
       "    .dataframe tbody tr th:only-of-type {\n",
       "        vertical-align: middle;\n",
       "    }\n",
       "\n",
       "    .dataframe tbody tr th {\n",
       "        vertical-align: top;\n",
       "    }\n",
       "\n",
       "    .dataframe thead th {\n",
       "        text-align: right;\n",
       "    }\n",
       "</style>\n",
       "<table border=\"1\" class=\"dataframe\">\n",
       "  <thead>\n",
       "    <tr style=\"text-align: right;\">\n",
       "      <th></th>\n",
       "      <th>Features</th>\n",
       "      <th>Coefficients</th>\n",
       "    </tr>\n",
       "  </thead>\n",
       "  <tbody>\n",
       "    <tr>\n",
       "      <th>0</th>\n",
       "      <td>keuangan_resah</td>\n",
       "      <td>16.374314</td>\n",
       "    </tr>\n",
       "    <tr>\n",
       "      <th>1</th>\n",
       "      <td>kuota_Email</td>\n",
       "      <td>-0.027120</td>\n",
       "    </tr>\n",
       "    <tr>\n",
       "      <th>2</th>\n",
       "      <td>kuota_Game</td>\n",
       "      <td>-0.028622</td>\n",
       "    </tr>\n",
       "    <tr>\n",
       "      <th>3</th>\n",
       "      <td>kuota_lain</td>\n",
       "      <td>-0.075165</td>\n",
       "    </tr>\n",
       "    <tr>\n",
       "      <th>4</th>\n",
       "      <td>merk</td>\n",
       "      <td>-0.013968</td>\n",
       "    </tr>\n",
       "    <tr>\n",
       "      <th>5</th>\n",
       "      <td>panik_tagihan</td>\n",
       "      <td>-0.205588</td>\n",
       "    </tr>\n",
       "    <tr>\n",
       "      <th>6</th>\n",
       "      <td>pekerjaan</td>\n",
       "      <td>-0.237197</td>\n",
       "    </tr>\n",
       "    <tr>\n",
       "      <th>7</th>\n",
       "      <td>pemasukan</td>\n",
       "      <td>-0.060954</td>\n",
       "    </tr>\n",
       "    <tr>\n",
       "      <th>8</th>\n",
       "      <td>uang_kuota</td>\n",
       "      <td>-0.083305</td>\n",
       "    </tr>\n",
       "    <tr>\n",
       "      <th>9</th>\n",
       "      <td>uang_lebih_baik</td>\n",
       "      <td>-0.109941</td>\n",
       "    </tr>\n",
       "    <tr>\n",
       "      <th>10</th>\n",
       "      <td>uang_tersisa_habis</td>\n",
       "      <td>-0.195561</td>\n",
       "    </tr>\n",
       "  </tbody>\n",
       "</table>\n",
       "</div>"
      ],
      "text/plain": [
       "              Features  Coefficients\n",
       "0       keuangan_resah     16.374314\n",
       "1          kuota_Email     -0.027120\n",
       "2           kuota_Game     -0.028622\n",
       "3           kuota_lain     -0.075165\n",
       "4                 merk     -0.013968\n",
       "5        panik_tagihan     -0.205588\n",
       "6            pekerjaan     -0.237197\n",
       "7            pemasukan     -0.060954\n",
       "8           uang_kuota     -0.083305\n",
       "9      uang_lebih_baik     -0.109941\n",
       "10  uang_tersisa_habis     -0.195561"
      ]
     },
     "execution_count": 54,
     "metadata": {},
     "output_type": "execute_result"
    }
   ],
   "source": [
    "#Features and coefficients\n",
    "coefficient_df =  pd.DataFrame({'Features' : pd.Series(featurecolumns),\n",
    "                        \"Coefficients\" : pd.Series(logreg.coef_[0])})\n",
    "coefficient_df"
   ]
  },
  {
   "cell_type": "code",
   "execution_count": 55,
   "metadata": {},
   "outputs": [
    {
     "data": {
      "text/plain": [
       "array([-69.85145224,  -1.2714912 ,  -0.97477353,  -0.84399804,\n",
       "        20.96713313])"
      ]
     },
     "execution_count": 55,
     "metadata": {},
     "output_type": "execute_result"
    }
   ],
   "source": [
    "logreg.intercept_"
   ]
  },
  {
   "cell_type": "code",
   "execution_count": 56,
   "metadata": {},
   "outputs": [
    {
     "data": {
      "text/html": [
       "<div>\n",
       "<style scoped>\n",
       "    .dataframe tbody tr th:only-of-type {\n",
       "        vertical-align: middle;\n",
       "    }\n",
       "\n",
       "    .dataframe tbody tr th {\n",
       "        vertical-align: top;\n",
       "    }\n",
       "\n",
       "    .dataframe thead th {\n",
       "        text-align: right;\n",
       "    }\n",
       "</style>\n",
       "<table border=\"1\" class=\"dataframe\">\n",
       "  <thead>\n",
       "    <tr style=\"text-align: right;\">\n",
       "      <th></th>\n",
       "      <th>index</th>\n",
       "      <th>actual</th>\n",
       "      <th>predicted</th>\n",
       "    </tr>\n",
       "  </thead>\n",
       "  <tbody>\n",
       "    <tr>\n",
       "      <th>0</th>\n",
       "      <td>339</td>\n",
       "      <td>4.0</td>\n",
       "      <td>4.0</td>\n",
       "    </tr>\n",
       "    <tr>\n",
       "      <th>1</th>\n",
       "      <td>142</td>\n",
       "      <td>3.0</td>\n",
       "      <td>2.0</td>\n",
       "    </tr>\n",
       "    <tr>\n",
       "      <th>2</th>\n",
       "      <td>243</td>\n",
       "      <td>1.0</td>\n",
       "      <td>1.0</td>\n",
       "    </tr>\n",
       "    <tr>\n",
       "      <th>3</th>\n",
       "      <td>236</td>\n",
       "      <td>1.0</td>\n",
       "      <td>1.0</td>\n",
       "    </tr>\n",
       "    <tr>\n",
       "      <th>4</th>\n",
       "      <td>712</td>\n",
       "      <td>1.0</td>\n",
       "      <td>1.0</td>\n",
       "    </tr>\n",
       "  </tbody>\n",
       "</table>\n",
       "</div>"
      ],
      "text/plain": [
       "   index  actual  predicted\n",
       "0    339     4.0        4.0\n",
       "1    142     3.0        2.0\n",
       "2    243     1.0        1.0\n",
       "3    236     1.0        1.0\n",
       "4    712     1.0        1.0"
      ]
     },
     "execution_count": 56,
     "metadata": {},
     "output_type": "execute_result"
    }
   ],
   "source": [
    "#Predicting the test cases\n",
    "data_test_pred_log = pd.DataFrame({'actual':Y_test, 'predicted': logreg.predict(X_test)})\n",
    "data_test_pred_log = data_test_pred_log.reset_index()\n",
    "data_test_pred_log.head()"
   ]
  },
  {
   "cell_type": "code",
   "execution_count": 57,
   "metadata": {},
   "outputs": [
    {
     "data": {
      "text/plain": [
       "array([[66,  0,  0,  0,  0],\n",
       "       [ 0, 27,  6,  0,  0],\n",
       "       [ 0,  6,  4,  0,  0],\n",
       "       [ 0,  2,  4,  6,  0],\n",
       "       [ 0,  0,  0,  0, 22]], dtype=int64)"
      ]
     },
     "execution_count": 57,
     "metadata": {},
     "output_type": "execute_result"
    }
   ],
   "source": [
    "#creating a confusion matrix\n",
    "\n",
    "cm_logreg = metrics.confusion_matrix(data_test_pred_log.actual,data_test_pred_log.predicted,labels = [1,2,3,4,5])\n",
    "cm_logreg"
   ]
  },
  {
   "cell_type": "code",
   "execution_count": 58,
   "metadata": {
    "scrolled": true
   },
   "outputs": [
    {
     "data": {
      "image/png": "[encoded data removed]",
      "text/plain": [
       "<Figure size 432x288 with 2 Axes>"
      ]
     },
     "metadata": {
      "needs_background": "light"
     },
     "output_type": "display_data"
    }
   ],
   "source": [
    "sns.heatmap(cm_logreg,annot=True, fmt=\".2f\", cmap=\"coolwarm\",\n",
    "            xticklabels = [\"1\", \"2\",\"3\",\"4\",\"5\"] , yticklabels = [\"1\", \"2\",\"3\",\"4\",\"5\"])\n",
    "plt.title(\"Confusion Matrix for Logistic Regression\")\n",
    "plt.ylabel(\"True Label\")\n",
    "plt.xlabel(\"Predicted Label\")\n",
    "plt.show()"
   ]
  },
  {
   "cell_type": "code",
   "execution_count": 59,
   "metadata": {},
   "outputs": [
    {
     "name": "stdout",
     "output_type": "stream",
     "text": [
      "Precision score : 0.897\n"
     ]
    }
   ],
   "source": [
    "#find precision score\n",
    "\n",
    "prec_score = metrics.precision_score(data_test_pred_log.actual, data_test_pred_log.predicted, average='weighted')\n",
    "print(\"Precision score :\", round(prec_score,3))"
   ]
  },
  {
   "cell_type": "code",
   "execution_count": 60,
   "metadata": {},
   "outputs": [
    {
     "name": "stdout",
     "output_type": "stream",
     "text": [
      "Accuracy of model : 0.874\n"
     ]
    }
   ],
   "source": [
    "#find the overall accuracy of model\n",
    "\n",
    "acc_score = metrics.accuracy_score(data_test_pred_log.actual,data_test_pred_log.predicted)\n",
    "print(\"Accuracy of model :\", round(acc_score,3))"
   ]
  },
  {
   "cell_type": "code",
   "execution_count": 61,
   "metadata": {},
   "outputs": [
    {
     "data": {
      "text/plain": [
       "1.0    66\n",
       "2.0    33\n",
       "5.0    22\n",
       "4.0    12\n",
       "3.0    10\n",
       "Name: actual, dtype: int64"
      ]
     },
     "execution_count": 61,
     "metadata": {},
     "output_type": "execute_result"
    }
   ],
   "source": [
    "data_test_pred_log.actual.value_counts()"
   ]
  },
  {
   "cell_type": "code",
   "execution_count": 62,
   "metadata": {
    "scrolled": true
   },
   "outputs": [
    {
     "name": "stdout",
     "output_type": "stream",
     "text": [
      "             precision    recall  f1-score   support\n",
      "\n",
      "        1.0       1.00      1.00      1.00        66\n",
      "        2.0       0.77      0.82      0.79        33\n",
      "        3.0       0.29      0.40      0.33        10\n",
      "        4.0       1.00      0.50      0.67        12\n",
      "        5.0       1.00      1.00      1.00        22\n",
      "\n",
      "avg / total       0.90      0.87      0.88       143\n",
      "\n"
     ]
    }
   ],
   "source": [
    "#classification report\n",
    "print(metrics.classification_report(data_test_pred_log.actual, data_test_pred_log.predicted))"
   ]
  },
  {
   "cell_type": "code",
   "execution_count": 63,
   "metadata": {},
   "outputs": [
    {
     "data": {
      "text/html": [
       "<div>\n",
       "<style scoped>\n",
       "    .dataframe tbody tr th:only-of-type {\n",
       "        vertical-align: middle;\n",
       "    }\n",
       "\n",
       "    .dataframe tbody tr th {\n",
       "        vertical-align: top;\n",
       "    }\n",
       "\n",
       "    .dataframe thead th {\n",
       "        text-align: right;\n",
       "    }\n",
       "</style>\n",
       "<table border=\"1\" class=\"dataframe\">\n",
       "  <thead>\n",
       "    <tr style=\"text-align: right;\">\n",
       "      <th></th>\n",
       "      <th>0</th>\n",
       "      <th>1</th>\n",
       "      <th>2</th>\n",
       "      <th>3</th>\n",
       "      <th>4</th>\n",
       "    </tr>\n",
       "  </thead>\n",
       "  <tbody>\n",
       "    <tr>\n",
       "      <th>0</th>\n",
       "      <td>1.490599e-18</td>\n",
       "      <td>0.175527</td>\n",
       "      <td>0.324679</td>\n",
       "      <td>0.499662</td>\n",
       "      <td>1.330277e-04</td>\n",
       "    </tr>\n",
       "    <tr>\n",
       "      <th>1</th>\n",
       "      <td>5.495241e-11</td>\n",
       "      <td>0.679548</td>\n",
       "      <td>0.204817</td>\n",
       "      <td>0.115635</td>\n",
       "      <td>7.107222e-12</td>\n",
       "    </tr>\n",
       "    <tr>\n",
       "      <th>2</th>\n",
       "      <td>7.989961e-01</td>\n",
       "      <td>0.150412</td>\n",
       "      <td>0.036846</td>\n",
       "      <td>0.013746</td>\n",
       "      <td>3.263344e-28</td>\n",
       "    </tr>\n",
       "    <tr>\n",
       "      <th>3</th>\n",
       "      <td>8.790020e-01</td>\n",
       "      <td>0.100132</td>\n",
       "      <td>0.015163</td>\n",
       "      <td>0.005703</td>\n",
       "      <td>3.648943e-28</td>\n",
       "    </tr>\n",
       "    <tr>\n",
       "      <th>4</th>\n",
       "      <td>7.667118e-01</td>\n",
       "      <td>0.196319</td>\n",
       "      <td>0.022891</td>\n",
       "      <td>0.014079</td>\n",
       "      <td>4.295013e-28</td>\n",
       "    </tr>\n",
       "  </tbody>\n",
       "</table>\n",
       "</div>"
      ],
      "text/plain": [
       "              0         1         2         3             4\n",
       "0  1.490599e-18  0.175527  0.324679  0.499662  1.330277e-04\n",
       "1  5.495241e-11  0.679548  0.204817  0.115635  7.107222e-12\n",
       "2  7.989961e-01  0.150412  0.036846  0.013746  3.263344e-28\n",
       "3  8.790020e-01  0.100132  0.015163  0.005703  3.648943e-28\n",
       "4  7.667118e-01  0.196319  0.022891  0.014079  4.295013e-28"
      ]
     },
     "execution_count": 63,
     "metadata": {},
     "output_type": "execute_result"
    }
   ],
   "source": [
    "#probabilty of prediction\n",
    "\n",
    "predict_prob_df = pd.DataFrame(logreg.predict_proba(X_test))\n",
    "predict_prob_df.head()"
   ]
  },
  {
   "cell_type": "code",
   "execution_count": 64,
   "metadata": {},
   "outputs": [
    {
     "data": {
      "image/png": "[encoded data removed]",
      "text/plain": [
       "<Figure size 432x288 with 1 Axes>"
      ]
     },
     "metadata": {
      "needs_background": "light"
     },
     "output_type": "display_data"
    }
   ],
   "source": [
    "#draw auc roc (Receiver operating characteristic) curve\n",
    "from sklearn.metrics import roc_curve, auc\n",
    "from sklearn.preprocessing import label_binarize\n",
    "\n",
    "y_score = logreg.fit(X_train, Y_train).predict_proba(X_test)\n",
    "y_test = label_binarize(data_test_pred_log.actual, classes=[1,2,3,4,5])\n",
    "\n",
    "n_classes = y_test.shape[1]\n",
    "fpr = dict()\n",
    "tpr = dict()\n",
    "roc_auc = dict()\n",
    "for i in range(n_classes):\n",
    "    fpr[i], tpr[i], _ = roc_curve(y_test[:, i], y_score[:, i])\n",
    "    roc_auc[i] = auc(fpr[i], tpr[i])\n",
    "colors = ['blue', 'red', 'green','yellow','orange']\n",
    "for i, color in zip(range(n_classes), colors):\n",
    "    plt.plot(fpr[i], tpr[i], color=color, \n",
    "             label='ROC curve of class {0} (area = {1:0.2f})'\n",
    "             ''.format(i, roc_auc[i]))\n",
    "plt.plot([0, 1], [0, 1], 'k--', lw=2)\n",
    "plt.xlim([-0.05, 1.0])\n",
    "plt.ylim([0.0, 1.05])\n",
    "plt.xlabel('False Positive Rate')\n",
    "plt.ylabel('True Positive Rate')\n",
    "plt.title('Receiver operating characteristic for logistic regression')\n",
    "plt.legend(loc=\"lower right\")\n",
    "plt.show()"
   ]
  },
  {
   "cell_type": "code",
   "execution_count": 65,
   "metadata": {
    "scrolled": true
   },
   "outputs": [
    {
     "data": {
      "text/plain": [
       "DecisionTreeClassifier(class_weight=None, criterion='gini', max_depth=8,\n",
       "            max_features=6, max_leaf_nodes=None, min_impurity_decrease=0.0,\n",
       "            min_impurity_split=None, min_samples_leaf=2,\n",
       "            min_samples_split=14, min_weight_fraction_leaf=0.0,\n",
       "            presort=False, random_state=100, splitter='best')"
      ]
     },
     "execution_count": 65,
     "metadata": {},
     "output_type": "execute_result"
    }
   ],
   "source": [
    "#Decision Tree\n",
    "\n",
    "clf2 = tree.DecisionTreeClassifier(class_weight=None, criterion='gini', max_depth=8,\n",
    "            max_features=6, max_leaf_nodes=None, min_impurity_decrease=0.0,\n",
    "            min_impurity_split=None, min_samples_leaf=2,\n",
    "            min_samples_split=14, min_weight_fraction_leaf=0.0,\n",
    "            presort=False, random_state=100, splitter='best')\n",
    "clf2.fit(X_train,Y_train)"
   ]
  },
  {
   "cell_type": "code",
   "execution_count": 66,
   "metadata": {
    "scrolled": true
   },
   "outputs": [
    {
     "data": {
      "text/html": [
       "<div>\n",
       "<style scoped>\n",
       "    .dataframe tbody tr th:only-of-type {\n",
       "        vertical-align: middle;\n",
       "    }\n",
       "\n",
       "    .dataframe tbody tr th {\n",
       "        vertical-align: top;\n",
       "    }\n",
       "\n",
       "    .dataframe thead th {\n",
       "        text-align: right;\n",
       "    }\n",
       "</style>\n",
       "<table border=\"1\" class=\"dataframe\">\n",
       "  <thead>\n",
       "    <tr style=\"text-align: right;\">\n",
       "      <th></th>\n",
       "      <th>index</th>\n",
       "      <th>actual</th>\n",
       "      <th>predicted</th>\n",
       "    </tr>\n",
       "  </thead>\n",
       "  <tbody>\n",
       "    <tr>\n",
       "      <th>0</th>\n",
       "      <td>339</td>\n",
       "      <td>4.0</td>\n",
       "      <td>4.0</td>\n",
       "    </tr>\n",
       "    <tr>\n",
       "      <th>1</th>\n",
       "      <td>142</td>\n",
       "      <td>3.0</td>\n",
       "      <td>3.0</td>\n",
       "    </tr>\n",
       "    <tr>\n",
       "      <th>2</th>\n",
       "      <td>243</td>\n",
       "      <td>1.0</td>\n",
       "      <td>1.0</td>\n",
       "    </tr>\n",
       "    <tr>\n",
       "      <th>3</th>\n",
       "      <td>236</td>\n",
       "      <td>1.0</td>\n",
       "      <td>1.0</td>\n",
       "    </tr>\n",
       "    <tr>\n",
       "      <th>4</th>\n",
       "      <td>712</td>\n",
       "      <td>1.0</td>\n",
       "      <td>1.0</td>\n",
       "    </tr>\n",
       "  </tbody>\n",
       "</table>\n",
       "</div>"
      ],
      "text/plain": [
       "   index  actual  predicted\n",
       "0    339     4.0        4.0\n",
       "1    142     3.0        3.0\n",
       "2    243     1.0        1.0\n",
       "3    236     1.0        1.0\n",
       "4    712     1.0        1.0"
      ]
     },
     "execution_count": 66,
     "metadata": {},
     "output_type": "execute_result"
    }
   ],
   "source": [
    "#Predicting the test cases\n",
    "data_test_pred_dtclass = pd.DataFrame({'actual':Y_test, 'predicted': clf2.predict(X_test)})\n",
    "data_test_pred_dtclass = data_test_pred_dtclass.reset_index()\n",
    "data_test_pred_dtclass.head()"
   ]
  },
  {
   "cell_type": "code",
   "execution_count": 67,
   "metadata": {},
   "outputs": [
    {
     "data": {
      "text/plain": [
       "array([[66,  0,  0,  0,  0],\n",
       "       [ 0, 33,  0,  0,  0],\n",
       "       [ 0,  0,  9,  1,  0],\n",
       "       [ 0,  0,  0, 10,  2],\n",
       "       [ 0,  0,  0,  2, 20]], dtype=int64)"
      ]
     },
     "execution_count": 67,
     "metadata": {},
     "output_type": "execute_result"
    }
   ],
   "source": [
    "#creating a confusion matrix\n",
    "\n",
    "cm_dtclass = metrics.confusion_matrix(data_test_pred_dtclass.actual,data_test_pred_dtclass.predicted,labels = [1,2,3,4,5])\n",
    "cm_dtclass"
   ]
  },
  {
   "cell_type": "code",
   "execution_count": 68,
   "metadata": {
    "scrolled": true
   },
   "outputs": [
    {
     "data": {
      "image/png": "[encoded data removed]",
      "text/plain": [
       "<Figure size 432x288 with 2 Axes>"
      ]
     },
     "metadata": {
      "needs_background": "light"
     },
     "output_type": "display_data"
    }
   ],
   "source": [
    "sns.heatmap(cm_dtclass,annot=True, fmt=\".2f\", cmap=\"coolwarm\",\n",
    "            xticklabels = [\"1\", \"2\",\"3\",\"4\",\"5\"] , yticklabels = [\"1\", \"2\",\"3\",\"4\",\"5\"])\n",
    "plt.title(\"Confusion Matrix for Decision Tree\")\n",
    "plt.ylabel(\"True Label\")\n",
    "plt.xlabel(\"Predicted Label\")\n",
    "plt.show()"
   ]
  },
  {
   "cell_type": "code",
   "execution_count": 69,
   "metadata": {},
   "outputs": [
    {
     "name": "stdout",
     "output_type": "stream",
     "text": [
      "Precision score : 0.967\n"
     ]
    }
   ],
   "source": [
    "#find precision score\n",
    "\n",
    "prec_score = metrics.precision_score(data_test_pred_dtclass.actual, data_test_pred_dtclass.predicted, average='weighted')\n",
    "print(\"Precision score :\", round(prec_score,3))"
   ]
  },
  {
   "cell_type": "code",
   "execution_count": 70,
   "metadata": {},
   "outputs": [
    {
     "name": "stdout",
     "output_type": "stream",
     "text": [
      "Accuracy of model : 0.965\n"
     ]
    }
   ],
   "source": [
    "#find the overall accuracy of model\n",
    "\n",
    "acc_score = metrics.accuracy_score(data_test_pred_dtclass.actual,data_test_pred_dtclass.predicted)\n",
    "print(\"Accuracy of model :\", round(acc_score,3))"
   ]
  },
  {
   "cell_type": "code",
   "execution_count": 71,
   "metadata": {},
   "outputs": [
    {
     "data": {
      "text/plain": [
       "1.0    66\n",
       "2.0    33\n",
       "5.0    22\n",
       "4.0    12\n",
       "3.0    10\n",
       "Name: actual, dtype: int64"
      ]
     },
     "execution_count": 71,
     "metadata": {},
     "output_type": "execute_result"
    }
   ],
   "source": [
    "data_test_pred_dtclass.actual.value_counts()"
   ]
  },
  {
   "cell_type": "code",
   "execution_count": 72,
   "metadata": {},
   "outputs": [
    {
     "name": "stdout",
     "output_type": "stream",
     "text": [
      "             precision    recall  f1-score   support\n",
      "\n",
      "        1.0       1.00      1.00      1.00        66\n",
      "        2.0       1.00      1.00      1.00        33\n",
      "        3.0       1.00      0.90      0.95        10\n",
      "        4.0       0.77      0.83      0.80        12\n",
      "        5.0       0.91      0.91      0.91        22\n",
      "\n",
      "avg / total       0.97      0.97      0.97       143\n",
      "\n"
     ]
    }
   ],
   "source": [
    "print(metrics.classification_report(data_test_pred_dtclass.actual, data_test_pred_dtclass.predicted))"
   ]
  },
  {
   "cell_type": "code",
   "execution_count": 73,
   "metadata": {},
   "outputs": [
    {
     "data": {
      "text/html": [
       "<div>\n",
       "<style scoped>\n",
       "    .dataframe tbody tr th:only-of-type {\n",
       "        vertical-align: middle;\n",
       "    }\n",
       "\n",
       "    .dataframe tbody tr th {\n",
       "        vertical-align: top;\n",
       "    }\n",
       "\n",
       "    .dataframe thead th {\n",
       "        text-align: right;\n",
       "    }\n",
       "</style>\n",
       "<table border=\"1\" class=\"dataframe\">\n",
       "  <thead>\n",
       "    <tr style=\"text-align: right;\">\n",
       "      <th></th>\n",
       "      <th>0</th>\n",
       "      <th>1</th>\n",
       "      <th>2</th>\n",
       "      <th>3</th>\n",
       "      <th>4</th>\n",
       "    </tr>\n",
       "  </thead>\n",
       "  <tbody>\n",
       "    <tr>\n",
       "      <th>0</th>\n",
       "      <td>0.0</td>\n",
       "      <td>0.0</td>\n",
       "      <td>0.0</td>\n",
       "      <td>1.0</td>\n",
       "      <td>0.0</td>\n",
       "    </tr>\n",
       "    <tr>\n",
       "      <th>1</th>\n",
       "      <td>0.0</td>\n",
       "      <td>0.0</td>\n",
       "      <td>1.0</td>\n",
       "      <td>0.0</td>\n",
       "      <td>0.0</td>\n",
       "    </tr>\n",
       "    <tr>\n",
       "      <th>2</th>\n",
       "      <td>1.0</td>\n",
       "      <td>0.0</td>\n",
       "      <td>0.0</td>\n",
       "      <td>0.0</td>\n",
       "      <td>0.0</td>\n",
       "    </tr>\n",
       "    <tr>\n",
       "      <th>3</th>\n",
       "      <td>1.0</td>\n",
       "      <td>0.0</td>\n",
       "      <td>0.0</td>\n",
       "      <td>0.0</td>\n",
       "      <td>0.0</td>\n",
       "    </tr>\n",
       "    <tr>\n",
       "      <th>4</th>\n",
       "      <td>1.0</td>\n",
       "      <td>0.0</td>\n",
       "      <td>0.0</td>\n",
       "      <td>0.0</td>\n",
       "      <td>0.0</td>\n",
       "    </tr>\n",
       "  </tbody>\n",
       "</table>\n",
       "</div>"
      ],
      "text/plain": [
       "     0    1    2    3    4\n",
       "0  0.0  0.0  0.0  1.0  0.0\n",
       "1  0.0  0.0  1.0  0.0  0.0\n",
       "2  1.0  0.0  0.0  0.0  0.0\n",
       "3  1.0  0.0  0.0  0.0  0.0\n",
       "4  1.0  0.0  0.0  0.0  0.0"
      ]
     },
     "execution_count": 73,
     "metadata": {},
     "output_type": "execute_result"
    }
   ],
   "source": [
    "#probabilty of prediction\n",
    "\n",
    "predict_prob_df = pd.DataFrame(clf2.predict_proba(X_test))\n",
    "predict_prob_df.head()"
   ]
  },
  {
   "cell_type": "code",
   "execution_count": 74,
   "metadata": {},
   "outputs": [
    {
     "data": {
      "image/png": "[encoded data removed]",
      "text/plain": [
       "<Figure size 432x288 with 1 Axes>"
      ]
     },
     "metadata": {
      "needs_background": "light"
     },
     "output_type": "display_data"
    }
   ],
   "source": [
    "#draw auc roc (Receiver operating characteristic) curve\n",
    "from sklearn.metrics import roc_curve, auc\n",
    "from sklearn.preprocessing import label_binarize\n",
    "\n",
    "y_score = clf2.fit(X_train, Y_train).predict_proba(X_test)\n",
    "y_test = label_binarize(data_test_pred_dtclass.actual, classes=[1,2,3,4,5])\n",
    "\n",
    "n_classes = y_test.shape[1]\n",
    "fpr = dict()\n",
    "tpr = dict()\n",
    "roc_auc = dict()\n",
    "for i in range(n_classes):\n",
    "    fpr[i], tpr[i], _ = roc_curve(y_test[:, i], y_score[:, i])\n",
    "    roc_auc[i] = auc(fpr[i], tpr[i])\n",
    "colors = ['blue', 'red', 'green','yellow','orange']\n",
    "for i, color in zip(range(n_classes), colors):\n",
    "    plt.plot(fpr[i], tpr[i], color=color, \n",
    "             label='ROC curve of class {0} (area = {1:0.2f})'\n",
    "             ''.format(i, roc_auc[i]))\n",
    "plt.plot([0, 1], [0, 1], 'k--', lw=2)\n",
    "plt.xlim([-0.05, 1.0])\n",
    "plt.ylim([0.0, 1.05])\n",
    "plt.xlabel('False Positive Rate')\n",
    "plt.ylabel('True Positive Rate')\n",
    "plt.title('Receiver operating characteristic for decision tree')\n",
    "plt.legend(loc=\"lower right\")\n",
    "plt.show()"
   ]
  },
  {
   "cell_type": "code",
   "execution_count": 75,
   "metadata": {},
   "outputs": [
    {
     "data": {
      "text/plain": [
       "SVC(C=1.0, cache_size=200, class_weight=None, coef0=0.0,\n",
       "  decision_function_shape='ovr', degree=3, gamma='auto', kernel='rbf',\n",
       "  max_iter=-1, probability=True, random_state=None, shrinking=True,\n",
       "  tol=0.001, verbose=False)"
      ]
     },
     "execution_count": 75,
     "metadata": {},
     "output_type": "execute_result"
    }
   ],
   "source": [
    "#SVM\n",
    "from sklearn import svm\n",
    "clf3 = svm.SVC(probability=True)\n",
    "clf3.fit(X_train,Y_train)"
   ]
  },
  {
   "cell_type": "code",
   "execution_count": 76,
   "metadata": {},
   "outputs": [
    {
     "data": {
      "text/html": [
       "<div>\n",
       "<style scoped>\n",
       "    .dataframe tbody tr th:only-of-type {\n",
       "        vertical-align: middle;\n",
       "    }\n",
       "\n",
       "    .dataframe tbody tr th {\n",
       "        vertical-align: top;\n",
       "    }\n",
       "\n",
       "    .dataframe thead th {\n",
       "        text-align: right;\n",
       "    }\n",
       "</style>\n",
       "<table border=\"1\" class=\"dataframe\">\n",
       "  <thead>\n",
       "    <tr style=\"text-align: right;\">\n",
       "      <th></th>\n",
       "      <th>index</th>\n",
       "      <th>actual</th>\n",
       "      <th>predicted</th>\n",
       "    </tr>\n",
       "  </thead>\n",
       "  <tbody>\n",
       "    <tr>\n",
       "      <th>0</th>\n",
       "      <td>339</td>\n",
       "      <td>4.0</td>\n",
       "      <td>3.0</td>\n",
       "    </tr>\n",
       "    <tr>\n",
       "      <th>1</th>\n",
       "      <td>142</td>\n",
       "      <td>3.0</td>\n",
       "      <td>2.0</td>\n",
       "    </tr>\n",
       "    <tr>\n",
       "      <th>2</th>\n",
       "      <td>243</td>\n",
       "      <td>1.0</td>\n",
       "      <td>2.0</td>\n",
       "    </tr>\n",
       "    <tr>\n",
       "      <th>3</th>\n",
       "      <td>236</td>\n",
       "      <td>1.0</td>\n",
       "      <td>2.0</td>\n",
       "    </tr>\n",
       "    <tr>\n",
       "      <th>4</th>\n",
       "      <td>712</td>\n",
       "      <td>1.0</td>\n",
       "      <td>1.0</td>\n",
       "    </tr>\n",
       "  </tbody>\n",
       "</table>\n",
       "</div>"
      ],
      "text/plain": [
       "   index  actual  predicted\n",
       "0    339     4.0        3.0\n",
       "1    142     3.0        2.0\n",
       "2    243     1.0        2.0\n",
       "3    236     1.0        2.0\n",
       "4    712     1.0        1.0"
      ]
     },
     "execution_count": 76,
     "metadata": {},
     "output_type": "execute_result"
    }
   ],
   "source": [
    "#Predicting the test cases\n",
    "data_test_pred_svm = pd.DataFrame({'actual':Y_test, 'predicted': clf3.predict(X_test)})\n",
    "data_test_pred_svm = data_test_pred_svm.reset_index()\n",
    "data_test_pred_svm.head()"
   ]
  },
  {
   "cell_type": "code",
   "execution_count": 77,
   "metadata": {},
   "outputs": [
    {
     "data": {
      "text/plain": [
       "array([[62,  4,  0,  0,  0],\n",
       "       [ 4, 28,  1,  0,  0],\n",
       "       [ 0,  4,  4,  2,  0],\n",
       "       [ 0,  2,  3,  5,  2],\n",
       "       [ 0,  0,  0,  2, 20]], dtype=int64)"
      ]
     },
     "execution_count": 77,
     "metadata": {},
     "output_type": "execute_result"
    }
   ],
   "source": [
    "#creating a confusion matrix\n",
    "\n",
    "cm_svm = metrics.confusion_matrix(data_test_pred_svm.actual,data_test_pred_svm.predicted,labels = [1,2,3,4,5])\n",
    "cm_svm"
   ]
  },
  {
   "cell_type": "code",
   "execution_count": 78,
   "metadata": {
    "scrolled": true
   },
   "outputs": [
    {
     "data": {
      "image/png": "[encoded data removed]",
      "text/plain": [
       "<Figure size 432x288 with 2 Axes>"
      ]
     },
     "metadata": {
      "needs_background": "light"
     },
     "output_type": "display_data"
    }
   ],
   "source": [
    "sns.heatmap(cm_svm,annot=True, fmt=\".2f\", cmap=\"coolwarm\",\n",
    "            xticklabels = [\"1\", \"2\",\"3\",\"4\",\"5\"] , yticklabels = [\"1\", \"2\",\"3\",\"4\",\"5\"])\n",
    "plt.title(\"Confusion Matrix for SVM\")\n",
    "plt.ylabel(\"True Label\")\n",
    "plt.xlabel(\"Predicted Label\")\n",
    "plt.show()"
   ]
  },
  {
   "cell_type": "code",
   "execution_count": 79,
   "metadata": {},
   "outputs": [
    {
     "name": "stdout",
     "output_type": "stream",
     "text": [
      "Precision score : 0.825\n"
     ]
    }
   ],
   "source": [
    "#find precision score\n",
    "\n",
    "prec_score = metrics.precision_score(data_test_pred_svm.actual, data_test_pred_svm.predicted, average='weighted')\n",
    "print(\"Precision score :\", round(prec_score,3))"
   ]
  },
  {
   "cell_type": "code",
   "execution_count": 80,
   "metadata": {},
   "outputs": [
    {
     "name": "stdout",
     "output_type": "stream",
     "text": [
      "Accuracy of model : 0.832\n"
     ]
    }
   ],
   "source": [
    "#find the overall accuracy of model\n",
    "\n",
    "acc_score = metrics.accuracy_score(data_test_pred_svm.actual,data_test_pred_svm.predicted)\n",
    "print(\"Accuracy of model :\", round(acc_score,3))"
   ]
  },
  {
   "cell_type": "code",
   "execution_count": 81,
   "metadata": {},
   "outputs": [
    {
     "data": {
      "text/plain": [
       "1.0    66\n",
       "2.0    33\n",
       "5.0    22\n",
       "4.0    12\n",
       "3.0    10\n",
       "Name: actual, dtype: int64"
      ]
     },
     "execution_count": 81,
     "metadata": {},
     "output_type": "execute_result"
    }
   ],
   "source": [
    "data_test_pred_svm.actual.value_counts()"
   ]
  },
  {
   "cell_type": "code",
   "execution_count": 82,
   "metadata": {
    "scrolled": true
   },
   "outputs": [
    {
     "name": "stdout",
     "output_type": "stream",
     "text": [
      "             precision    recall  f1-score   support\n",
      "\n",
      "        1.0       0.94      0.94      0.94        66\n",
      "        2.0       0.74      0.85      0.79        33\n",
      "        3.0       0.50      0.40      0.44        10\n",
      "        4.0       0.56      0.42      0.48        12\n",
      "        5.0       0.91      0.91      0.91        22\n",
      "\n",
      "avg / total       0.83      0.83      0.83       143\n",
      "\n"
     ]
    }
   ],
   "source": [
    "print(metrics.classification_report(data_test_pred_svm.actual, data_test_pred_svm.predicted))"
   ]
  },
  {
   "cell_type": "code",
   "execution_count": 83,
   "metadata": {},
   "outputs": [
    {
     "data": {
      "text/html": [
       "<div>\n",
       "<style scoped>\n",
       "    .dataframe tbody tr th:only-of-type {\n",
       "        vertical-align: middle;\n",
       "    }\n",
       "\n",
       "    .dataframe tbody tr th {\n",
       "        vertical-align: top;\n",
       "    }\n",
       "\n",
       "    .dataframe thead th {\n",
       "        text-align: right;\n",
       "    }\n",
       "</style>\n",
       "<table border=\"1\" class=\"dataframe\">\n",
       "  <thead>\n",
       "    <tr style=\"text-align: right;\">\n",
       "      <th></th>\n",
       "      <th>0</th>\n",
       "      <th>1</th>\n",
       "      <th>2</th>\n",
       "      <th>3</th>\n",
       "      <th>4</th>\n",
       "    </tr>\n",
       "  </thead>\n",
       "  <tbody>\n",
       "    <tr>\n",
       "      <th>0</th>\n",
       "      <td>0.006396</td>\n",
       "      <td>0.029668</td>\n",
       "      <td>0.444825</td>\n",
       "      <td>0.390019</td>\n",
       "      <td>0.129092</td>\n",
       "    </tr>\n",
       "    <tr>\n",
       "      <th>1</th>\n",
       "      <td>0.021167</td>\n",
       "      <td>0.276603</td>\n",
       "      <td>0.313875</td>\n",
       "      <td>0.315788</td>\n",
       "      <td>0.072568</td>\n",
       "    </tr>\n",
       "    <tr>\n",
       "      <th>2</th>\n",
       "      <td>0.175602</td>\n",
       "      <td>0.774743</td>\n",
       "      <td>0.037953</td>\n",
       "      <td>0.009374</td>\n",
       "      <td>0.002329</td>\n",
       "    </tr>\n",
       "    <tr>\n",
       "      <th>3</th>\n",
       "      <td>0.267669</td>\n",
       "      <td>0.548408</td>\n",
       "      <td>0.124934</td>\n",
       "      <td>0.033891</td>\n",
       "      <td>0.025099</td>\n",
       "    </tr>\n",
       "    <tr>\n",
       "      <th>4</th>\n",
       "      <td>0.964722</td>\n",
       "      <td>0.033557</td>\n",
       "      <td>0.001296</td>\n",
       "      <td>0.000306</td>\n",
       "      <td>0.000120</td>\n",
       "    </tr>\n",
       "  </tbody>\n",
       "</table>\n",
       "</div>"
      ],
      "text/plain": [
       "          0         1         2         3         4\n",
       "0  0.006396  0.029668  0.444825  0.390019  0.129092\n",
       "1  0.021167  0.276603  0.313875  0.315788  0.072568\n",
       "2  0.175602  0.774743  0.037953  0.009374  0.002329\n",
       "3  0.267669  0.548408  0.124934  0.033891  0.025099\n",
       "4  0.964722  0.033557  0.001296  0.000306  0.000120"
      ]
     },
     "execution_count": 83,
     "metadata": {},
     "output_type": "execute_result"
    }
   ],
   "source": [
    "#probabilty of prediction\n",
    "\n",
    "predict_prob_df = pd.DataFrame(clf3.predict_proba(X_test))\n",
    "predict_prob_df.head()"
   ]
  },
  {
   "cell_type": "code",
   "execution_count": 84,
   "metadata": {},
   "outputs": [
    {
     "data": {
      "image/png": "[encoded data removed]",
      "text/plain": [
       "<Figure size 432x288 with 1 Axes>"
      ]
     },
     "metadata": {
      "needs_background": "light"
     },
     "output_type": "display_data"
    }
   ],
   "source": [
    "#draw auc roc (Receiver operating characteristic) curve\n",
    "from sklearn.metrics import roc_curve, auc\n",
    "from sklearn.preprocessing import label_binarize\n",
    "\n",
    "y_score = clf3.fit(X_train, Y_train).predict_proba(X_test)\n",
    "y_test = label_binarize(data_test_pred_svm.actual, classes=[1,2,3,4,5])\n",
    "\n",
    "n_classes = y_test.shape[1]\n",
    "fpr = dict()\n",
    "tpr = dict()\n",
    "roc_auc = dict()\n",
    "for i in range(n_classes):\n",
    "    fpr[i], tpr[i], _ = roc_curve(y_test[:, i], y_score[:, i])\n",
    "    roc_auc[i] = auc(fpr[i], tpr[i])\n",
    "colors = ['blue', 'red', 'green','yellow','orange']\n",
    "for i, color in zip(range(n_classes), colors):\n",
    "    plt.plot(fpr[i], tpr[i], color=color, \n",
    "             label='ROC curve of class {0} (area = {1:0.2f})'\n",
    "             ''.format(i, roc_auc[i]))\n",
    "plt.plot([0, 1], [0, 1], 'k--', lw=2)\n",
    "plt.xlim([-0.05, 1.0])\n",
    "plt.ylim([0.0, 1.05])\n",
    "plt.xlabel('False Positive Rate')\n",
    "plt.ylabel('True Positive Rate')\n",
    "plt.title('Receiver operating characteristic for svm')\n",
    "plt.legend(loc=\"lower right\")\n",
    "plt.show()"
   ]
  },
  {
   "cell_type": "code",
   "execution_count": 85,
   "metadata": {},
   "outputs": [
    {
     "data": {
      "text/plain": [
       "GaussianNB(priors=None)"
      ]
     },
     "execution_count": 85,
     "metadata": {},
     "output_type": "execute_result"
    }
   ],
   "source": [
    "#GaussianNB\n",
    "gnb = GaussianNB()\n",
    "gnb.fit(X_train,Y_train)"
   ]
  },
  {
   "cell_type": "code",
   "execution_count": 86,
   "metadata": {},
   "outputs": [
    {
     "data": {
      "text/html": [
       "<div>\n",
       "<style scoped>\n",
       "    .dataframe tbody tr th:only-of-type {\n",
       "        vertical-align: middle;\n",
       "    }\n",
       "\n",
       "    .dataframe tbody tr th {\n",
       "        vertical-align: top;\n",
       "    }\n",
       "\n",
       "    .dataframe thead th {\n",
       "        text-align: right;\n",
       "    }\n",
       "</style>\n",
       "<table border=\"1\" class=\"dataframe\">\n",
       "  <thead>\n",
       "    <tr style=\"text-align: right;\">\n",
       "      <th></th>\n",
       "      <th>index</th>\n",
       "      <th>actual</th>\n",
       "      <th>predicted</th>\n",
       "    </tr>\n",
       "  </thead>\n",
       "  <tbody>\n",
       "    <tr>\n",
       "      <th>0</th>\n",
       "      <td>339</td>\n",
       "      <td>4.0</td>\n",
       "      <td>4.0</td>\n",
       "    </tr>\n",
       "    <tr>\n",
       "      <th>1</th>\n",
       "      <td>142</td>\n",
       "      <td>3.0</td>\n",
       "      <td>3.0</td>\n",
       "    </tr>\n",
       "    <tr>\n",
       "      <th>2</th>\n",
       "      <td>243</td>\n",
       "      <td>1.0</td>\n",
       "      <td>1.0</td>\n",
       "    </tr>\n",
       "    <tr>\n",
       "      <th>3</th>\n",
       "      <td>236</td>\n",
       "      <td>1.0</td>\n",
       "      <td>1.0</td>\n",
       "    </tr>\n",
       "    <tr>\n",
       "      <th>4</th>\n",
       "      <td>712</td>\n",
       "      <td>1.0</td>\n",
       "      <td>1.0</td>\n",
       "    </tr>\n",
       "  </tbody>\n",
       "</table>\n",
       "</div>"
      ],
      "text/plain": [
       "   index  actual  predicted\n",
       "0    339     4.0        4.0\n",
       "1    142     3.0        3.0\n",
       "2    243     1.0        1.0\n",
       "3    236     1.0        1.0\n",
       "4    712     1.0        1.0"
      ]
     },
     "execution_count": 86,
     "metadata": {},
     "output_type": "execute_result"
    }
   ],
   "source": [
    "#Predicting the test cases\n",
    "data_test_pred_gnb = pd.DataFrame({'actual':Y_test, 'predicted': gnb.predict(X_test)})\n",
    "data_test_pred_gnb = data_test_pred_gnb.reset_index()\n",
    "data_test_pred_gnb.head()"
   ]
  },
  {
   "cell_type": "code",
   "execution_count": 87,
   "metadata": {
    "scrolled": true
   },
   "outputs": [
    {
     "data": {
      "text/plain": [
       "array([[66,  0,  0,  0,  0],\n",
       "       [ 0, 33,  0,  0,  0],\n",
       "       [ 0,  0, 10,  0,  0],\n",
       "       [ 0,  0,  0, 12,  0],\n",
       "       [ 0,  0,  0,  0, 22]], dtype=int64)"
      ]
     },
     "execution_count": 87,
     "metadata": {},
     "output_type": "execute_result"
    }
   ],
   "source": [
    "#creating a confusion matrix\n",
    "cm_gnb = metrics.confusion_matrix(data_test_pred_gnb.actual,data_test_pred_gnb.predicted,labels = [1,2,3,4,5])\n",
    "cm_gnb"
   ]
  },
  {
   "cell_type": "code",
   "execution_count": 88,
   "metadata": {
    "scrolled": true
   },
   "outputs": [
    {
     "data": {
      "image/png": "[encoded data removed]",
      "text/plain": [
       "<Figure size 432x288 with 2 Axes>"
      ]
     },
     "metadata": {
      "needs_background": "light"
     },
     "output_type": "display_data"
    }
   ],
   "source": [
    "sns.heatmap(cm_gnb,annot=True, fmt=\".2f\", cmap=\"coolwarm\",\n",
    "            xticklabels = [\"1\", \"2\",\"3\",\"4\",\"5\"] , yticklabels = [\"1\", \"2\",\"3\",\"4\",\"5\"])\n",
    "plt.title(\"Confusion Matrix for Naive Bayes\")\n",
    "plt.ylabel(\"True Label\")\n",
    "plt.xlabel(\"Predicted Label\")\n",
    "plt.show()"
   ]
  },
  {
   "cell_type": "code",
   "execution_count": 89,
   "metadata": {},
   "outputs": [
    {
     "name": "stdout",
     "output_type": "stream",
     "text": [
      "Precision score : 1.0\n"
     ]
    }
   ],
   "source": [
    "#find precision score\n",
    "\n",
    "prec_score = metrics.precision_score(data_test_pred_gnb.actual, data_test_pred_gnb.predicted, average='weighted')\n",
    "print(\"Precision score :\", round(prec_score,3))"
   ]
  },
  {
   "cell_type": "code",
   "execution_count": 90,
   "metadata": {
    "scrolled": true
   },
   "outputs": [
    {
     "name": "stdout",
     "output_type": "stream",
     "text": [
      "Accuracy of model : 1.0\n"
     ]
    }
   ],
   "source": [
    "#find the overall accuracy of model\n",
    "\n",
    "acc_score = metrics.accuracy_score(data_test_pred_gnb.actual,data_test_pred_gnb.predicted)\n",
    "print(\"Accuracy of model :\", round(acc_score,3))"
   ]
  },
  {
   "cell_type": "code",
   "execution_count": 91,
   "metadata": {
    "scrolled": true
   },
   "outputs": [
    {
     "data": {
      "text/plain": [
       "1.0    66\n",
       "2.0    33\n",
       "5.0    22\n",
       "4.0    12\n",
       "3.0    10\n",
       "Name: actual, dtype: int64"
      ]
     },
     "execution_count": 91,
     "metadata": {},
     "output_type": "execute_result"
    }
   ],
   "source": [
    "data_test_pred_gnb.actual.value_counts()"
   ]
  },
  {
   "cell_type": "code",
   "execution_count": 92,
   "metadata": {
    "scrolled": false
   },
   "outputs": [
    {
     "name": "stdout",
     "output_type": "stream",
     "text": [
      "             precision    recall  f1-score   support\n",
      "\n",
      "        1.0       1.00      1.00      1.00        66\n",
      "        2.0       1.00      1.00      1.00        33\n",
      "        3.0       1.00      1.00      1.00        10\n",
      "        4.0       1.00      1.00      1.00        12\n",
      "        5.0       1.00      1.00      1.00        22\n",
      "\n",
      "avg / total       1.00      1.00      1.00       143\n",
      "\n"
     ]
    }
   ],
   "source": [
    "print(metrics.classification_report(data_test_pred_gnb.actual, data_test_pred_gnb.predicted))"
   ]
  },
  {
   "cell_type": "code",
   "execution_count": 93,
   "metadata": {},
   "outputs": [
    {
     "data": {
      "text/html": [
       "<div>\n",
       "<style scoped>\n",
       "    .dataframe tbody tr th:only-of-type {\n",
       "        vertical-align: middle;\n",
       "    }\n",
       "\n",
       "    .dataframe tbody tr th {\n",
       "        vertical-align: top;\n",
       "    }\n",
       "\n",
       "    .dataframe thead th {\n",
       "        text-align: right;\n",
       "    }\n",
       "</style>\n",
       "<table border=\"1\" class=\"dataframe\">\n",
       "  <thead>\n",
       "    <tr style=\"text-align: right;\">\n",
       "      <th></th>\n",
       "      <th>0</th>\n",
       "      <th>1</th>\n",
       "      <th>2</th>\n",
       "      <th>3</th>\n",
       "      <th>4</th>\n",
       "    </tr>\n",
       "  </thead>\n",
       "  <tbody>\n",
       "    <tr>\n",
       "      <th>0</th>\n",
       "      <td>2.949843e-14</td>\n",
       "      <td>0.0</td>\n",
       "      <td>0.0</td>\n",
       "      <td>1.0</td>\n",
       "      <td>0.0</td>\n",
       "    </tr>\n",
       "    <tr>\n",
       "      <th>1</th>\n",
       "      <td>3.332421e-09</td>\n",
       "      <td>0.0</td>\n",
       "      <td>1.0</td>\n",
       "      <td>0.0</td>\n",
       "      <td>0.0</td>\n",
       "    </tr>\n",
       "    <tr>\n",
       "      <th>2</th>\n",
       "      <td>1.000000e+00</td>\n",
       "      <td>0.0</td>\n",
       "      <td>0.0</td>\n",
       "      <td>0.0</td>\n",
       "      <td>0.0</td>\n",
       "    </tr>\n",
       "    <tr>\n",
       "      <th>3</th>\n",
       "      <td>1.000000e+00</td>\n",
       "      <td>0.0</td>\n",
       "      <td>0.0</td>\n",
       "      <td>0.0</td>\n",
       "      <td>0.0</td>\n",
       "    </tr>\n",
       "    <tr>\n",
       "      <th>4</th>\n",
       "      <td>1.000000e+00</td>\n",
       "      <td>0.0</td>\n",
       "      <td>0.0</td>\n",
       "      <td>0.0</td>\n",
       "      <td>0.0</td>\n",
       "    </tr>\n",
       "  </tbody>\n",
       "</table>\n",
       "</div>"
      ],
      "text/plain": [
       "              0    1    2    3    4\n",
       "0  2.949843e-14  0.0  0.0  1.0  0.0\n",
       "1  3.332421e-09  0.0  1.0  0.0  0.0\n",
       "2  1.000000e+00  0.0  0.0  0.0  0.0\n",
       "3  1.000000e+00  0.0  0.0  0.0  0.0\n",
       "4  1.000000e+00  0.0  0.0  0.0  0.0"
      ]
     },
     "execution_count": 93,
     "metadata": {},
     "output_type": "execute_result"
    }
   ],
   "source": [
    "#probabilty of prediction\n",
    "\n",
    "predict_prob_df = pd.DataFrame(gnb.predict_proba(X_test))\n",
    "predict_prob_df.head()"
   ]
  },
  {
   "cell_type": "code",
   "execution_count": 94,
   "metadata": {},
   "outputs": [
    {
     "data": {
      "text/plain": [
       "1.0"
      ]
     },
     "execution_count": 94,
     "metadata": {},
     "output_type": "execute_result"
    }
   ],
   "source": [
    "#find the auc score\n",
    "from sklearn.metrics import roc_auc_score\n",
    "from sklearn.preprocessing import LabelBinarizer\n",
    "\n",
    "def multiclass_roc_auc_score(Y_test, Y_pred, average=\"macro\"):\n",
    "    lb = LabelBinarizer()\n",
    "    lb.fit(data_test_pred_gnb.actual)\n",
    "    Y_test = lb.transform(data_test_pred_gnb.actual)\n",
    "    Y_pred = lb.transform(data_test_pred_gnb.predicted)\n",
    "    return roc_auc_score(Y_test, Y_pred, average=average)\n",
    "\n",
    "multiclass_roc_auc_score(data_test_pred_gnb.actual, data_test_pred_gnb.predicted)"
   ]
  },
  {
   "cell_type": "code",
   "execution_count": 95,
   "metadata": {},
   "outputs": [
    {
     "data": {
      "image/png": "[encoded data removed]",
      "text/plain": [
       "<Figure size 432x288 with 1 Axes>"
      ]
     },
     "metadata": {
      "needs_background": "light"
     },
     "output_type": "display_data"
    }
   ],
   "source": [
    "# function plotPredictionScore(label,value,test_data){\n",
    "    \n",
    "# }\n",
    "# function classifyTestData(test_data,class_enum){\n",
    "    \n",
    "# }\n",
    "\n",
    "\n",
    "# y_score = plotPredictionScore(label,value,test_data);\n",
    "# y_test = classifyTestData(test_data,class_enum);\n",
    "# plot = new Plot(title);\n",
    "# y_label = \"True Positive Rate\"\n",
    "# x_label = \"False Positive Rate\"\n",
    "# x_plot_range = [0,1]\n",
    "# y_plot_range = x_plot_range\n",
    "# plot.setAxis([x_score,x_label,x_plot_range],[y_score,y_label,y_plot_range]);\n",
    "\n",
    "#draw auc roc (Receiver operating characteristic) curve\n",
    "from sklearn.metrics import roc_curve, auc\n",
    "from sklearn.preprocessing import label_binarize\n",
    "#hitung skor prediksi algoritma berdasarkan kelasnya\n",
    "y_score = gnb.fit(X_train, Y_train).predict_proba(X_test)\n",
    "y_test = label_binarize(data_test_pred_gnb.actual, classes=[1,2,3,4,5])\n",
    "#plot koordinat kurva berdasarkan rentang kelas\n",
    "#warnai kurva\n",
    "#tambahkan label berisi hasil perhitungan \n",
    "#area plot diawali pada [0,0] diakhiri pada [1,1]\n",
    "#limit kurva x di [-0.05, 1.0]\n",
    "#limit kurva y di [0.0, 1.05]\n",
    "n_classes = y_test.shape[1]\n",
    "fpr = dict()\n",
    "tpr = dict()\n",
    "roc_auc = dict()\n",
    "for i in range(n_classes):\n",
    "    fpr[i], tpr[i], _ = roc_curve(y_test[:, i], y_score[:, i])\n",
    "    roc_auc[i] = auc(fpr[i], tpr[i])\n",
    "colors = ['blue', 'red', 'green','yellow','orange']\n",
    "for i, color in zip(range(n_classes), colors):\n",
    "    plt.plot(fpr[i], tpr[i], color=color, \n",
    "             label='ROC curve of class {0} (area = {1:0.2f})'\n",
    "             ''.format(i, roc_auc[i]))\n",
    "plt.plot([0, 1], [0, 1], 'k--', lw=2)\n",
    "plt.xlim([-0.05, 1.0])\n",
    "plt.ylim([0.0, 1.05])\n",
    "plt.xlabel('False Positive Rate')\n",
    "plt.ylabel('True Positive Rate')\n",
    "plt.title('Receiver operating characteristic for gaussian naive bayes')\n",
    "plt.legend(loc=\"lower right\")\n",
    "plt.show()"
   ]
  },
  {
   "cell_type": "code",
   "execution_count": 97,
   "metadata": {},
   "outputs": [
    {
     "data": {
      "application/vnd.jupyter.widget-view+json": {
       "model_id": "5b4cf439fb184fb09db02c3b67aa2298",
       "version_major": 2,
       "version_minor": 0
      },
      "text/plain": [
       "Box(children=(Box(children=(Label(value='Masukan nama:'), Text(value='', placeholder='Nama')), layout=Layout(d…"
      ]
     },
     "metadata": {},
     "output_type": "display_data"
    }
   ],
   "source": [
    "%matplotlib notebook\n",
    "import pandas as pd\n",
    "import matplotlib.pyplot as plt\n",
    "from ipywidgets import *\n",
    "from IPython.display import display\n",
    "import ipywidgets as widgets\n",
    "plt.style.use('ggplot')\n",
    "\n",
    "\n",
    "form_item_layout = widgets.Layout(\n",
    "    display='flex',\n",
    "    flex_flow='row',\n",
    "    justify_content='space-between'\n",
    ")\n",
    "\n",
    "\n",
    "# displaying the text widget\n",
    "text = widgets.Text(\n",
    "    placeholder='Nama',\n",
    "    disabled=False\n",
    ")\n",
    "#display(text)\n",
    "# add button that updates the graph based on the checkboxes\n",
    "button = widgets.Button(description=\"Cek Level\")\n",
    "#display(button)\n",
    "resultLabel = widgets.Label(\n",
    "    value=\"\",\n",
    "    disabled = True\n",
    ")\n",
    "#display(resultLabel)\n",
    "pemasukan = widgets.IntSlider(\n",
    "    value=data2.pemasukan.median(),\n",
    "    min=data2.pemasukan.min(),\n",
    "    max=data2.pemasukan.max(),\n",
    "    step=1,\n",
    "    disabled=False,\n",
    "    continuous_update=False,\n",
    "    orientation='horizontal',\n",
    "    readout=True,\n",
    "    slider_color='black'\n",
    ")\n",
    "pekerjaan = widgets.IntSlider(\n",
    "    value=data2.pekerjaan.median(),\n",
    "    min=data2.pekerjaan.min(),\n",
    "    max=data2.pekerjaan.max(),\n",
    "    step=1,\n",
    "    disabled=False,\n",
    "    continuous_update=False,\n",
    "    orientation='horizontal',\n",
    "    readout=True,\n",
    "    slider_color='black'\n",
    ")\n",
    "uang_kuota = widgets.IntSlider(\n",
    "    value=data2.uang_kuota.median(),\n",
    "    min=data2.uang_kuota.min(),\n",
    "    max=data2.uang_kuota.max(),\n",
    "    step=1,\n",
    "    disabled=False,\n",
    "    continuous_update=False,\n",
    "    orientation='horizontal',\n",
    "    readout=True,\n",
    "    slider_color='black'\n",
    ")\n",
    "merk = widgets.IntSlider(\n",
    "    value=data2.merk.median(),\n",
    "    min=data2.merk.min(),\n",
    "    max=data2.merk.max(),\n",
    "    step=1,\n",
    "    disabled=False,\n",
    "    continuous_update=False,\n",
    "    orientation='horizontal',\n",
    "    readout=True,\n",
    "    slider_color='black'\n",
    ")\n",
    "kuota_Game = widgets.IntSlider(\n",
    "    value=data2.kuota_Game.median(),\n",
    "    min=data2.kuota_Game.min(),\n",
    "    max=data2.kuota_Game.max(),\n",
    "    step=1,\n",
    "    disabled=False,\n",
    "    continuous_update=True,\n",
    "    orientation='horizontal',\n",
    "    readout=True,\n",
    "    slider_color='black'\n",
    ")\n",
    "kuota_Email =  widgets.IntSlider(\n",
    "    value=data2.kuota_Email.median(),\n",
    "    min=data2.kuota_Email.min(),\n",
    "    max=data2.kuota_Email.max(),\n",
    "    step=1,\n",
    "    disabled=False,\n",
    "    continuous_update=True,\n",
    "    orientation='horizontal',\n",
    "    readout=True,\n",
    "    slider_color='black'\n",
    ")\n",
    "kuota_lain =  widgets.IntSlider(\n",
    "    value=data2.kuota_lain.median(),\n",
    "    min=data2.kuota_lain.min(),\n",
    "    max=data2.kuota_lain.max(),\n",
    "    step=1,\n",
    "    disabled=False,\n",
    "    continuous_update=True,\n",
    "    orientation='horizontal',\n",
    "    readout=True,\n",
    "    slider_color='black'\n",
    ")\n",
    "uang_lebih_baik =  widgets.IntSlider(\n",
    "    value=data2.uang_lebih_baik.median(),\n",
    "    min=data2.uang_lebih_baik.min(),\n",
    "    max=data2.uang_lebih_baik.max(),\n",
    "    step=1,\n",
    "    disabled=False,\n",
    "    continuous_update=True,\n",
    "    orientation='horizontal',\n",
    "    readout=True,\n",
    "    slider_color='black'\n",
    ")\n",
    "panik_tagihan = widgets.IntSlider(\n",
    "    value=data2.panik_tagihan.median(),\n",
    "    min=data2.panik_tagihan.min(),\n",
    "    max=data2.panik_tagihan.max(),\n",
    "    step=1,\n",
    "    disabled=False,\n",
    "    continuous_update=True,\n",
    "    orientation='horizontal',\n",
    "    readout=True,\n",
    "    slider_color='black'\n",
    ")\n",
    "\n",
    "keuangan_resah =  widgets.IntSlider(\n",
    "    value=data2.keuangan_resah.median(),\n",
    "    min=data2.keuangan_resah.min(),\n",
    "    max=data2.keuangan_resah.max(),\n",
    "    step=1,\n",
    "    disabled=False,\n",
    "    continuous_update=True,\n",
    "    orientation='horizontal',\n",
    "    readout=True,\n",
    "    slider_color='black'\n",
    ")\n",
    "uang_tersisa_habis =  widgets.IntSlider(\n",
    "    value=data2.uang_tersisa_habis.median(),\n",
    "    min=data2.uang_tersisa_habis.min(),\n",
    "    max=data2.uang_tersisa_habis.max(),\n",
    "    step=1,\n",
    "    disabled=False,\n",
    "    continuous_update=True,\n",
    "    orientation='horizontal',\n",
    "    readout=True,\n",
    "    slider_color='black'\n",
    ")\n",
    "algos = widgets.Dropdown(options=['Logistic Regression','Decision Tree', 'SVM', 'GaussianNB'])\n",
    "#display(revolve)\n",
    "\n",
    "form_items = [\n",
    "   Box([Label(value='Masukan nama:'), text], layout=form_item_layout),\n",
    "   Box([Label(value='Pemasukan:'), pemasukan], layout=form_item_layout),\n",
    "   Box([Label(value='Pekerjaan:'), pekerjaan], layout=form_item_layout),\n",
    "   Box([Label(value='Uang untuk kuota:'), uang_kuota], layout=form_item_layout),\n",
    "   Box([Label(value='Merk Handphone:'), merk], layout=form_item_layout),\n",
    "   Box([Label(value='kuota Game:'), kuota_Game], layout=form_item_layout),\n",
    "   Box([Label(value='kuota Email:'), kuota_Email], layout=form_item_layout),\n",
    "   Box([Label(value='kuota lain:'), kuota_lain], layout=form_item_layout),\n",
    "   Box([Label(value='Apakah anda menghabiskan uang untuk merasa lebih baik?:'), uang_lebih_baik], layout=form_item_layout),\n",
    "   Box([Label(value='Apakah anda panik setiap menerima tagihan?:'), panik_tagihan], layout=form_item_layout),\n",
    "   Box([Label(value='Apakah kondisi keuangan anda membuat anda resah?:'), keuangan_resah], layout=form_item_layout),\n",
    "    Box([Label(value='Apabila saya memiliki uang tersisa, saya harus menghabiskannya:'), uang_tersisa_habis], layout=form_item_layout),\n",
    "   Box([Label(value='Algoritma:'),algos], layout=form_item_layout),\n",
    "   button,\n",
    "   Box([Label(value='Hasil:'), resultLabel], layout=form_item_layout),\n",
    "]\n",
    "\n",
    "form = Box(form_items, layout=Layout(\n",
    "    display='flex',\n",
    "    flex_flow='column',\n",
    "    border='dashed 2px',\n",
    "    align_items='stretch',\n",
    "    width= '70%'\n",
    "))\n",
    "\n",
    "display(form)\n",
    "\n",
    "# function to deal with the checkbox update button       \n",
    "def on_button_clicked(b):\n",
    "    nama = text.value\n",
    "    pmskn = pemasukan.value\n",
    "    pkrjn = pekerjaan.value\n",
    "    kuota = uang_kuota.value\n",
    "    mrk = merk.value\n",
    "    kGame = kuota_Game.value\n",
    "    kEmail = kuota_Email.value\n",
    "    klain = kuota_lain.value\n",
    "    ulbaik = uang_lebih_baik.value\n",
    "    ptagihan = panik_tagihan.value\n",
    "    kresah = keuangan_resah.value\n",
    "    uthabis = uang_tersisa_habis.value\n",
    "    algo = algos.value\n",
    "    \n",
    "    testARR = [[pmskn,pkrjn,kuota,mrk,kGame,kEmail,klain,ulbaik,ptagihan,kresah,uthabis]]\n",
    "    yGuess  = []\n",
    "    \n",
    "    if algo == 'Logistic Regression':\n",
    "        yGuess = logreg.predict(testARR)\n",
    "    elif   algo == 'Decision Tree':\n",
    "        yGuess = clf2.predict(testARR)\n",
    "    elif algo == 'SVM':\n",
    "        yGuess = clf3.predict(testARR)\n",
    "    elif algo == 'GaussianNB':\n",
    "        yGuess = gnb.predict(testARR)\n",
    "    \n",
    "    print(nama,pmskn,pkrjn,kuota,mrk,kGame,kEmail,klain,ulbaik,ptagihan,kresah,uthabis,algo,yGuess[0])\n",
    "    \n",
    "    if(yGuess[0] == 5):\n",
    "        resultLabel.value = text.value + ' Resiko Sangat Tinggi. Batas kredit yang diterima sebesar Rp 3.000.000,-.'    \n",
    "    elif(yGuess[0] == 4):\n",
    "        resultLabel.value = text.value + ' Resiko Tinggi. Batas kredit yang diterima sebesar Rp 6.000.000,-.'\n",
    "    elif(yGuess[0] == 3):\n",
    "        resultLabel.value = text.value + ' Resiko Menengah. Batas kredit yang diterima sebesar Rp 12.000.000,-.'\n",
    "    elif(yGuess[0] == 2):\n",
    "        resultLabel.value = text.value + ' Resiko Rendah. Batas kredit yang diterima sebesar Rp 15.000.000,-.'\n",
    "    elif(yGuess[0] == 1):\n",
    "        resultLabel.value = text.value + ' Resiko Sangat Rendah. Batas kredit yang diterima sebesar Rp 20.000.000,-.'\n",
    "    else :\n",
    "        resultLabel.value = text.value + ' Resiko Tak Teridentifikasi. Batas kredit yang diterima sebesar Rp 0,-.'\n",
    "        \n",
    "button.on_click(on_button_clicked)\n",
    "plt.show()"
   ]
  },
  {
   "cell_type": "code",
   "execution_count": null,
   "metadata": {},
   "outputs": [],
   "source": []
  }
 ],
 "metadata": {
  "kernelspec": {
   "display_name": "Python 3",
   "language": "python",
   "name": "python3"
  }
 },
 "nbformat": 4,
 "nbformat_minor": 2
}
